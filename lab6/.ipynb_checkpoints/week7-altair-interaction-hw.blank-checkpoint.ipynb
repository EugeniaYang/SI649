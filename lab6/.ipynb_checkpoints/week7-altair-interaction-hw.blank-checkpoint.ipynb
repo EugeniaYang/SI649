{
 "cells": [
  {
   "cell_type": "markdown",
   "metadata": {
    "colab_type": "text",
    "id": "lg4L-qmfwykD"
   },
   "source": [
    "# SI649-22-WINTER -> Altair Assignment 4\n",
    "School of Information, University of Michigan\n",
    "\n",
    "\n",
    "## Assignment Overview\n",
    "1. Interaction \n",
    "2. Review transform \n",
    "3. Comparing streamlit widget and altair widget\n",
    "\n",
    "We will replicate 3 visualizations (and a bonus visualization) created by the article posted on [Five Thirty Eight](https://fivethirtyeight.com) available  [online](https://fivethirtyeight.com/features/the-mayweather-mcgregor-fight-as-told-through-emojis/) (Hickey, Koeze, Dottle, Wezerek 2017). \n",
    "\n",
    "**For this lab, please write Altair code to answer the questions. It's fine if your visualization looks slightly different from the example (e.g., getting 1.1 instead of 1.0, use orange instead of red, have different titles, chart width/height,and mark size/opacity)**\n",
    "\n",
    "### Resources:\n",
    "- Article by [Five Thirty Eight](https://fivethirtyeight.com) available  [online] (https://fivethirtyeight.com/features/the-mayweather-mcgregor-fight-as-told-through-emojis/) (Hickey, Koeze, Dottle, Wezerek 2017)  \n",
    "- the original can be found on [Five Thirty Eight Mayweather vs McGregor] (https://github.com/fivethirtyeight/data/tree/master/mayweather-mcgregor)\n",
    "\n",
    "### General Hints: \n",
    "* Yes, you can render emojis in colab/jupyter notebook and in your chart. You can consider them as text. \n",
    "* We recommend that you finish all the static charts before adding interactions. \n",
    "* If you see duplicated axes, use `axis=None` to get rid of unnecessary axes.  \n",
    "* Don't forget to set `empty=\"none\"`. The default behavior is that when nothing is selected, *everything* is selected. When set to none, empty selections contain no data values.  \n",
    "* `resolve_scale` ensures charts share axes and scales. \n"
   ]
  },
  {
   "cell_type": "markdown",
   "metadata": {},
   "source": [
    "## Export to streamlit \n",
    "\n",
    "Like last lab, we want you to build a streamlit app for these visualization. You will be adding your visualizations to a streamlit .py file when you’re done. You can either do it as you go or at the end.\n",
    "\n",
    "The app you build will have\n",
    "\n",
    "1. A title with your name \n",
    "2. A selectbox in the sidebar that navigates to different charts. \n",
    "3. For chart 3, we want you to implement the radio widget interaction in streamlit, and putting BOTH the altair version and the streamlit version in the app. \n",
    "4. (OPTIONAL BONUS) For chart 4, we also want to see both the altair version and the streamlit version. \n",
    "\n",
    "Your finished app will look like this:\n",
    "\n",
    "![alt text](https://raw.githubusercontent.com/eytanadar/si649public/master/lab6/hw/uncompressed_full_export.gif)\n"
   ]
  },
  {
   "cell_type": "code",
   "execution_count": 1,
   "metadata": {
    "colab": {},
    "colab_type": "code",
    "id": "qwBVki-iwykM"
   },
   "outputs": [],
   "source": [
    "# start with the setup\n",
    "import pandas as pd\n",
    "import altair as alt\n",
    "import numpy as np\n",
    "import pprint\n"
   ]
  },
  {
   "cell_type": "code",
   "execution_count": 2,
   "metadata": {
    "colab": {},
    "colab_type": "code",
    "id": "Jd65eJsBwykP"
   },
   "outputs": [],
   "source": [
    "#load data \n",
    "df1=pd.read_csv(\"https://raw.githubusercontent.com/eytanadar/si649public/master/lab6/hw/data/df1.csv\")\n",
    "df2=pd.read_csv(\"https://raw.githubusercontent.com/eytanadar/si649public/master/lab6/hw/data/df2_count.csv\")\n",
    "df3=pd.read_csv(\"https://raw.githubusercontent.com/eytanadar/si649public/master/lab6/hw/data/df3.csv\")\n",
    "df4=pd.read_csv(\"https://raw.githubusercontent.com/eytanadar/si649public/master/lab6/hw/data/df4.csv\")"
   ]
  },
  {
   "cell_type": "code",
   "execution_count": 3,
   "metadata": {},
   "outputs": [],
   "source": [
    "# change the 'datetime' column to be explicitly a datetime object\n",
    "df2['datetime'] = pd.to_datetime(df2['datetime'])\n",
    "df3['datetime'] = pd.to_datetime(df3['datetime'])\n",
    "df4['datetime'] = pd.to_datetime(df4['datetime'])"
   ]
  },
  {
   "cell_type": "markdown",
   "metadata": {
    "colab_type": "text",
    "id": "3L6Ncgd1Csy-"
   },
   "source": [
    "## Visualization 1: Emoji and percentage of usage "
   ]
  },
  {
   "cell_type": "markdown",
   "metadata": {
    "colab_type": "text",
    "id": "Stjx8DV7C7oV"
   },
   "source": [
    "We will replicate the following visualization  \n",
    "![vis1_static](https://raw.githubusercontent.com/eytanadar/si649public/master/lab6/hw/vis1/static.png?raw=true)\n",
    "\n",
    "**Description of the visualization (static):**\n",
    "*   Use *df1* for this exercise\n",
    "*   This visualization has 3 components: **emoji**, **percentage text**, and **bars** \n",
    "*   All 3 components share the same y axis, which display the *rank* of percentage from highest to lowest. \n",
    "*   The width of the bar(along x axis) encodes *PERCENT*\n",
    "*   All 3 components have a low opacity because we want to add interactions (see the next cell). \n"
   ]
  },
  {
   "cell_type": "markdown",
   "metadata": {
    "colab_type": "text",
    "id": "Y4YUJ7X8EThT"
   },
   "source": [
    "**Description of the visualization (interactivity):**\n",
    "1. When hovering over bars, the associated emoji will show up as tooltip \n",
    "![alt text](https://raw.githubusercontent.com/eytanadar/si649public/master/lab6/hw/vis1/interactive_1.gif?raw=true)\n",
    "2. When hovering over emojis, percentage texts, or bars, the opacity of the selected row will change to 1. \n",
    "![alt text](https://raw.githubusercontent.com/eytanadar/si649public/master/lab6/hw/vis1/interactive_2.gif?raw=true)\n",
    "3. Brushing over the emojis will filter bars.\n",
    "![alt text](https://raw.githubusercontent.com/eytanadar/si649public/master/lab6/hw/vis1/interactive_3.gif?raw=true)\n",
    "4. Brushing over percentage text will filter bars.\n",
    "![alt text](https://raw.githubusercontent.com/eytanadar/si649public/master/lab6/hw/vis1/interactive_4.gif?raw=true)\n",
    "\n"
   ]
  },
  {
   "cell_type": "markdown",
   "metadata": {
    "colab_type": "text",
    "id": "Clq94x6QLIdX"
   },
   "source": [
    "**Sample style settings (optional):**\n",
    "Here's a list of default style settings we used to generate the graph.\n",
    "* Original opacity for all 3 components: 0.6. \n",
    "* Hovered opacity: 1\n",
    "* bar height = 15, color = orange\n",
    "* text chart and emoji width are both 20\n",
    "* after building the compound chart, use the following line to disable border : `.configure_view(strokeWidth=0)`\n",
    "\n"
   ]
  },
  {
   "cell_type": "markdown",
   "metadata": {
    "colab_type": "text",
    "id": "hBTgri54h9bT"
   },
   "source": [
    "Hint:\n",
    "* We recommend getting all static components working before writing any interactivity. \n",
    "* Add one interaction at a time and test whether or not it works. \n",
    "* To add an interaction that's not tooltip and zooming, you need four steps (review in-class demo). \n",
    "* Selection is used in two scenarios: 1) to add to a *condition*, which is used in `encode`. 2) to add in `transform_filter`. In this visualization, you will implement both. Think through which you will use where before trying to build this."
   ]
  },
  {
   "cell_type": "code",
   "execution_count": 4,
   "metadata": {
    "colab": {
     "base_uri": "https://localhost:8080/",
     "height": 204
    },
    "colab_type": "code",
    "executionInfo": {
     "elapsed": 322,
     "status": "ok",
     "timestamp": 1581363529779,
     "user": {
      "displayName": "Matthew Kay",
      "photoUrl": "https://lh3.googleusercontent.com/a-/AAuE7mAdky9qVH46I_7lBPGqO4FSfJRCbiW_k8cFLOUN=s64",
      "userId": "07352650379952094636"
     },
     "user_tz": 300
    },
    "id": "d48wnQjpnHSL",
    "outputId": "7b591559-bb01-446b-beda-47d88364b337"
   },
   "outputs": [
    {
     "data": {
      "text/html": [
       "<div>\n",
       "<style scoped>\n",
       "    .dataframe tbody tr th:only-of-type {\n",
       "        vertical-align: middle;\n",
       "    }\n",
       "\n",
       "    .dataframe tbody tr th {\n",
       "        vertical-align: top;\n",
       "    }\n",
       "\n",
       "    .dataframe thead th {\n",
       "        text-align: right;\n",
       "    }\n",
       "</style>\n",
       "<table border=\"1\" class=\"dataframe\">\n",
       "  <thead>\n",
       "    <tr style=\"text-align: right;\">\n",
       "      <th></th>\n",
       "      <th>Unnamed: 0</th>\n",
       "      <th>EMOJI</th>\n",
       "      <th>PERCENT</th>\n",
       "      <th>rank</th>\n",
       "      <th>PERCENT_TEXT</th>\n",
       "    </tr>\n",
       "  </thead>\n",
       "  <tbody>\n",
       "    <tr>\n",
       "      <th>0</th>\n",
       "      <td>0</td>\n",
       "      <td>😂</td>\n",
       "      <td>23.1</td>\n",
       "      <td>1</td>\n",
       "      <td>23.1 %</td>\n",
       "    </tr>\n",
       "    <tr>\n",
       "      <th>1</th>\n",
       "      <td>1</td>\n",
       "      <td>🥊</td>\n",
       "      <td>5.7</td>\n",
       "      <td>2</td>\n",
       "      <td>5.7 %</td>\n",
       "    </tr>\n",
       "    <tr>\n",
       "      <th>2</th>\n",
       "      <td>2</td>\n",
       "      <td>👊</td>\n",
       "      <td>3.5</td>\n",
       "      <td>3</td>\n",
       "      <td>3.5 %</td>\n",
       "    </tr>\n",
       "    <tr>\n",
       "      <th>3</th>\n",
       "      <td>3</td>\n",
       "      <td>👏</td>\n",
       "      <td>3.0</td>\n",
       "      <td>4</td>\n",
       "      <td>3.0 %</td>\n",
       "    </tr>\n",
       "    <tr>\n",
       "      <th>4</th>\n",
       "      <td>4</td>\n",
       "      <td>💪</td>\n",
       "      <td>2.5</td>\n",
       "      <td>5</td>\n",
       "      <td>2.5 %</td>\n",
       "    </tr>\n",
       "  </tbody>\n",
       "</table>\n",
       "</div>"
      ],
      "text/plain": [
       "   Unnamed: 0 EMOJI  PERCENT  rank PERCENT_TEXT\n",
       "0           0     😂     23.1     1       23.1 %\n",
       "1           1     🥊      5.7     2        5.7 %\n",
       "2           2     👊      3.5     3        3.5 %\n",
       "3           3     👏      3.0     4        3.0 %\n",
       "4           4     💪      2.5     5        2.5 %"
      ]
     },
     "execution_count": 4,
     "metadata": {},
     "output_type": "execute_result"
    }
   ],
   "source": [
    "df1.head()"
   ]
  },
  {
   "cell_type": "code",
   "execution_count": 5,
   "metadata": {
    "colab": {
     "base_uri": "https://localhost:8080/",
     "height": 1000
    },
    "colab_type": "code",
    "executionInfo": {
     "elapsed": 282,
     "status": "ok",
     "timestamp": 1581368957410,
     "user": {
      "displayName": "Matthew Kay",
      "photoUrl": "https://lh3.googleusercontent.com/a-/AAuE7mAdky9qVH46I_7lBPGqO4FSfJRCbiW_k8cFLOUN=s64",
      "userId": "07352650379952094636"
     },
     "user_tz": 300
    },
    "id": "Nu_lcwp78Fwe",
    "outputId": "b5e97f91-8083-4323-b252-8bdf7a526734"
   },
   "outputs": [
    {
     "data": {
      "text/html": [
       "\n",
       "<div id=\"altair-viz-30274343595a4f6bb2ff422e14973344\"></div>\n",
       "<script type=\"text/javascript\">\n",
       "  var VEGA_DEBUG = (typeof VEGA_DEBUG == \"undefined\") ? {} : VEGA_DEBUG;\n",
       "  (function(spec, embedOpt){\n",
       "    let outputDiv = document.currentScript.previousElementSibling;\n",
       "    if (outputDiv.id !== \"altair-viz-30274343595a4f6bb2ff422e14973344\") {\n",
       "      outputDiv = document.getElementById(\"altair-viz-30274343595a4f6bb2ff422e14973344\");\n",
       "    }\n",
       "    const paths = {\n",
       "      \"vega\": \"https://cdn.jsdelivr.net/npm//vega@5?noext\",\n",
       "      \"vega-lib\": \"https://cdn.jsdelivr.net/npm//vega-lib?noext\",\n",
       "      \"vega-lite\": \"https://cdn.jsdelivr.net/npm//vega-lite@4.17.0?noext\",\n",
       "      \"vega-embed\": \"https://cdn.jsdelivr.net/npm//vega-embed@6?noext\",\n",
       "    };\n",
       "\n",
       "    function maybeLoadScript(lib, version) {\n",
       "      var key = `${lib.replace(\"-\", \"\")}_version`;\n",
       "      return (VEGA_DEBUG[key] == version) ?\n",
       "        Promise.resolve(paths[lib]) :\n",
       "        new Promise(function(resolve, reject) {\n",
       "          var s = document.createElement('script');\n",
       "          document.getElementsByTagName(\"head\")[0].appendChild(s);\n",
       "          s.async = true;\n",
       "          s.onload = () => {\n",
       "            VEGA_DEBUG[key] = version;\n",
       "            return resolve(paths[lib]);\n",
       "          };\n",
       "          s.onerror = () => reject(`Error loading script: ${paths[lib]}`);\n",
       "          s.src = paths[lib];\n",
       "        });\n",
       "    }\n",
       "\n",
       "    function showError(err) {\n",
       "      outputDiv.innerHTML = `<div class=\"error\" style=\"color:red;\">${err}</div>`;\n",
       "      throw err;\n",
       "    }\n",
       "\n",
       "    function displayChart(vegaEmbed) {\n",
       "      vegaEmbed(outputDiv, spec, embedOpt)\n",
       "        .catch(err => showError(`Javascript Error: ${err.message}<br>This usually means there's a typo in your chart specification. See the javascript console for the full traceback.`));\n",
       "    }\n",
       "\n",
       "    if(typeof define === \"function\" && define.amd) {\n",
       "      requirejs.config({paths});\n",
       "      require([\"vega-embed\"], displayChart, err => showError(`Error loading script: ${err.message}`));\n",
       "    } else {\n",
       "      maybeLoadScript(\"vega\", \"5\")\n",
       "        .then(() => maybeLoadScript(\"vega-lite\", \"4.17.0\"))\n",
       "        .then(() => maybeLoadScript(\"vega-embed\", \"6\"))\n",
       "        .catch(showError)\n",
       "        .then(() => displayChart(vegaEmbed));\n",
       "    }\n",
       "  })({\"config\": {\"view\": {\"continuousWidth\": 400, \"continuousHeight\": 300, \"strokeWidth\": 0}}, \"layer\": [{\"mark\": {\"type\": \"text\", \"align\": \"center\", \"baseline\": \"middle\"}, \"encoding\": {\"text\": {\"field\": \"PERCENT_TEXT\", \"type\": \"ordinal\"}, \"x\": {\"value\": -20}, \"y\": {\"field\": \"EMOJI\", \"sort\": {\"field\": \"-PERCENT\"}, \"type\": \"ordinal\"}}, \"selection\": {\"selector002\": {\"type\": \"interval\", \"empty\": \"all\"}}}, {\"mark\": {\"type\": \"bar\", \"height\": 15}, \"encoding\": {\"color\": {\"condition\": {\"value\": \"orange\", \"selection\": \"selector001\"}, \"value\": \"orange\"}, \"opacity\": {\"condition\": {\"value\": 1.0, \"selection\": \"selector001\"}, \"value\": 0.6}, \"tooltip\": {\"field\": \"EMOJI\", \"type\": \"nominal\"}, \"x\": {\"axis\": {\"domain\": false, \"domainWidth\": 20, \"offset\": 60, \"ticks\": false, \"title\": \"\"}, \"field\": \"PERCENT\", \"type\": \"quantitative\"}, \"y\": {\"axis\": {\"domain\": false, \"domainWidth\": 20, \"offset\": 60, \"ticks\": false, \"title\": \"\"}, \"field\": \"EMOJI\", \"sort\": {\"field\": \"-PERCENT\"}, \"type\": \"ordinal\"}}, \"selection\": {\"selector001\": {\"type\": \"single\", \"empty\": \"none\", \"on\": \"mouseover\"}}}], \"data\": {\"name\": \"data-6d0abc498dd05b01d992a7961942404a\"}, \"$schema\": \"https://vega.github.io/schema/vega-lite/v4.17.0.json\", \"datasets\": {\"data-6d0abc498dd05b01d992a7961942404a\": [{\"Unnamed: 0\": 0, \"EMOJI\": \"\\ud83d\\ude02\", \"PERCENT\": 23.1, \"rank\": 1, \"PERCENT_TEXT\": \"23.1 %\"}, {\"Unnamed: 0\": 1, \"EMOJI\": \"\\ud83e\\udd4a\", \"PERCENT\": 5.7, \"rank\": 2, \"PERCENT_TEXT\": \"5.7 %\"}, {\"Unnamed: 0\": 2, \"EMOJI\": \"\\ud83d\\udc4a\", \"PERCENT\": 3.5, \"rank\": 3, \"PERCENT_TEXT\": \"3.5 %\"}, {\"Unnamed: 0\": 3, \"EMOJI\": \"\\ud83d\\udc4f\", \"PERCENT\": 3.0, \"rank\": 4, \"PERCENT_TEXT\": \"3.0 %\"}, {\"Unnamed: 0\": 4, \"EMOJI\": \"\\ud83d\\udcaa\", \"PERCENT\": 2.5, \"rank\": 5, \"PERCENT_TEXT\": \"2.5 %\"}, {\"Unnamed: 0\": 5, \"EMOJI\": \"\\ud83c\\uddee\\ud83c\\uddea\", \"PERCENT\": 2.4, \"rank\": 6, \"PERCENT_TEXT\": \"2.4 %\"}, {\"Unnamed: 0\": 6, \"EMOJI\": \"\\ud83e\\udd23\", \"PERCENT\": 2.3, \"rank\": 7, \"PERCENT_TEXT\": \"2.3 %\"}, {\"Unnamed: 0\": 7, \"EMOJI\": \"\\ud83d\\udd25\", \"PERCENT\": 2.3, \"rank\": 8, \"PERCENT_TEXT\": \"2.3 %\"}, {\"Unnamed: 0\": 8, \"EMOJI\": \"\\ud83d\\ude2d\", \"PERCENT\": 2.0, \"rank\": 9, \"PERCENT_TEXT\": \"2.0 %\"}, {\"Unnamed: 0\": 9, \"EMOJI\": \"\\ud83d\\udcb0\", \"PERCENT\": 1.8, \"rank\": 10, \"PERCENT_TEXT\": \"1.8 %\"}]}}, {\"mode\": \"vega-lite\"});\n",
       "</script>"
      ],
      "text/plain": [
       "alt.LayerChart(...)"
      ]
     },
     "execution_count": 5,
     "metadata": {},
     "output_type": "execute_result"
    }
   ],
   "source": [
    "##TODO: replicate vis 1 \n",
    "selection=alt.selection_single(empty=\"none\", on=\"mouseover\")\n",
    "\n",
    "opacityCondition = alt.condition(selection, alt.value(1.0), alt.value(0.6))\n",
    "colorCondition = alt.condition(selection, alt.value(\"orange\"), alt.value(\"orange\"))\n",
    "\n",
    "\n",
    "vis1_b = alt.Chart(df1).mark_bar(\n",
    "    height=15\n",
    ").encode(\n",
    "    x=alt.X('PERCENT:Q',axis=alt.Axis(ticks=False, domain=False, domainWidth = 20, offset=60,title='')),\n",
    "    y=alt.Y('EMOJI:O',\n",
    "            sort=alt.EncodingSortField(field='-PERCENT'),\n",
    "            axis=alt.Axis(ticks=False, domain=False, domainWidth = 20, offset=60,title='')),\n",
    "    color = alt.value(\"orange\")\n",
    ").encode(\n",
    "    tooltip='EMOJI:N'\n",
    ").encode(\n",
    "    #step4\n",
    "    opacity = opacityCondition,\n",
    "    color = colorCondition\n",
    ").add_selection(\n",
    "    #step3\n",
    "    selection,\n",
    ")\n",
    "\n",
    "brush = alt.selection_interval(empty=\"all\")\n",
    "# TODO: How to bind the brush to texts instead of the bars?\n",
    "# TODO: If I use the texts as y axis, how to move them both to the left?\n",
    "# TODO: and how to bind to the emojis?\n",
    "vis1_t = alt.Chart(df1).mark_text(\n",
    "    align='center',\n",
    "    baseline='middle',\n",
    ").add_selection(\n",
    "    brush\n",
    ").encode(\n",
    "    x = alt.value(-20),\n",
    "    y=alt.Y('EMOJI:O',sort=alt.EncodingSortField(field='-PERCENT')),\n",
    "    text=alt.Text('PERCENT_TEXT:O'),\n",
    ")\n",
    "\n",
    "# TODO: how to remove the x axis labels and ticks? I don't know other ways to represent the data besides alt.value()\n",
    "\n",
    "#Interaction requirement 2, change opacity when hover over \n",
    "\n",
    "\n",
    "#Interaction requirement 3 and 4, create brushing filter  \n",
    "\n",
    "\n",
    "\n",
    "colorConditionBrush=alt.condition(brush,alt.value(\"orange\"), alt.value(\"gray\"))\n",
    "\n",
    "vis1_t.add_selection(\n",
    "    brush\n",
    ")\n",
    "\n",
    "##Static Component - Bars\n",
    "\n",
    "##Static Component - Emojis\n",
    "\n",
    "##Static Component - Text\n",
    "##Put all together\n",
    "\n",
    "(vis1_t+ vis1_b).configure_view(\n",
    "    strokeWidth=0\n",
    ")"
   ]
  },
  {
   "cell_type": "markdown",
   "metadata": {
    "colab_type": "text",
    "id": "gq5Gjgyowykw"
   },
   "source": [
    "## Visualization 2: Irish Pride vs. Money Team "
   ]
  },
  {
   "cell_type": "markdown",
   "metadata": {
    "colab_type": "text",
    "id": "OyrxrmFELuCQ"
   },
   "source": [
    "We will replicate the following visualization  \n",
    "![vis2_static](https://raw.githubusercontent.com/eytanadar/si649public/master/lab6/hw/vis2/static.png?raw=true)\n",
    "\n",
    "**Description of the visualization (static):**\n",
    "*   Use *df2* \n",
    "*   The visualization has 1 \"static\" component: **line chart**. It displays the relationship between *datetime* and *count* \n"
   ]
  },
  {
   "cell_type": "markdown",
   "metadata": {
    "colab_type": "text",
    "id": "NJ_-pE9qO6RX"
   },
   "source": [
    "**Description of the visualization (interactivity):**\n",
    "1. Enable zooming and panning along the x-axis. (The gif below only displays the line chart.)\n",
    "![alt text](https://raw.githubusercontent.com/eytanadar/si649public/master/lab6/hw/vis2/interactive_1.gif?raw=true)\n",
    "2. Display a vertical line that moves with the mouse. This will require you to add additional chart component(let's call it **vLine**).\n",
    "![alt text](https://raw.githubusercontent.com/eytanadar/si649public/master/lab6/hw/vis2/interactive_2.gif?raw=true)\n",
    "3. Display the intersection of the **vLine** with the **line chart** as 2 circles (let's call these two circles **intersection dots**). \n",
    "![alt text](https://raw.githubusercontent.com/eytanadar/si649public/master/lab6/hw/vis2/interactive_3.gif?raw=true)\n",
    "4. When hovering over these **intersection dots**, display the *tweet_count*, *datetime*, and *team* in tooltip.  \n",
    "![alt text](https://raw.githubusercontent.com/eytanadar/si649public/master/lab6/hw/vis2/interactive_4.gif?raw=true)\n",
    "\n"
   ]
  },
  {
   "cell_type": "markdown",
   "metadata": {
    "colab_type": "text",
    "id": "KoJGK0oLO7Bl"
   },
   "source": [
    "**Sample style settings (optional):**\n",
    "Here's a list of default style settings we used to generate the graph.\n",
    "\n",
    "* line chart size = 2.5, \n",
    "* vLine: size=4, color=\"lightgray\", initial opacity = 0 \n",
    "* indicator dot:  color=\"black\" size=70"
   ]
  },
  {
   "cell_type": "markdown",
   "metadata": {
    "colab_type": "text",
    "id": "QDPTEumZViP7"
   },
   "source": [
    "**Bugs**\n",
    "\n",
    "If your interaction look similar to this, don't worry about it. It's likely a altair/colab issue. \n",
    "\n",
    "1. Blinking lines: You can fix by making your **vLine** thicker, or view it in vegalite editor. \n",
    "\n",
    "![alt text](https://github.com/LiciaHe/SI649/blob/master/week4/images/vis2/interactive_2_bug1.gif?raw=true)\n"
   ]
  },
  {
   "cell_type": "markdown",
   "metadata": {
    "colab_type": "text",
    "id": "vnH0ZNZ-jhOg"
   },
   "source": [
    "**Hint**\n",
    "\n",
    "\n",
    "* We only want to enable zooming and panning along the x-axis.\n",
    "*  There are multiple ways of implementing the **vLine**. Here is one of them: \n",
    "> 1) use mark_rule to generate a line for every single data point and set these line's opacity to be 0.\n",
    "\n",
    " > 2)when mouse hovering over a line, display it by changing its opacity. \n",
    "\n",
    "*  The implementation of the **intersection dots** is similar to that of the **vLine**. Do you need a new selection/condition for the **intersection dots**?\n",
    "\n",
    "\n"
   ]
  },
  {
   "cell_type": "code",
   "execution_count": 6,
   "metadata": {},
   "outputs": [
    {
     "data": {
      "text/html": [
       "<div>\n",
       "<style scoped>\n",
       "    .dataframe tbody tr th:only-of-type {\n",
       "        vertical-align: middle;\n",
       "    }\n",
       "\n",
       "    .dataframe tbody tr th {\n",
       "        vertical-align: top;\n",
       "    }\n",
       "\n",
       "    .dataframe thead th {\n",
       "        text-align: right;\n",
       "    }\n",
       "</style>\n",
       "<table border=\"1\" class=\"dataframe\">\n",
       "  <thead>\n",
       "    <tr style=\"text-align: right;\">\n",
       "      <th></th>\n",
       "      <th>Unnamed: 0</th>\n",
       "      <th>datetime</th>\n",
       "      <th>tweet_count</th>\n",
       "      <th>team</th>\n",
       "    </tr>\n",
       "  </thead>\n",
       "  <tbody>\n",
       "    <tr>\n",
       "      <th>226</th>\n",
       "      <td>226</td>\n",
       "      <td>2017-08-27 01:02:00</td>\n",
       "      <td>1.235870</td>\n",
       "      <td>💸🤑💰💵</td>\n",
       "    </tr>\n",
       "    <tr>\n",
       "      <th>222</th>\n",
       "      <td>222</td>\n",
       "      <td>2017-08-27 01:01:00</td>\n",
       "      <td>1.224730</td>\n",
       "      <td>💸🤑💰💵</td>\n",
       "    </tr>\n",
       "    <tr>\n",
       "      <th>211</th>\n",
       "      <td>211</td>\n",
       "      <td>2017-08-27 00:58:15</td>\n",
       "      <td>1.351328</td>\n",
       "      <td>💸🤑💰💵</td>\n",
       "    </tr>\n",
       "    <tr>\n",
       "      <th>117</th>\n",
       "      <td>117</td>\n",
       "      <td>2017-08-27 00:34:45</td>\n",
       "      <td>0.448634</td>\n",
       "      <td>💸🤑💰💵</td>\n",
       "    </tr>\n",
       "    <tr>\n",
       "      <th>436</th>\n",
       "      <td>158</td>\n",
       "      <td>2017-08-27 00:45:00</td>\n",
       "      <td>0.304631</td>\n",
       "      <td>☘️🍀🇮🇪</td>\n",
       "    </tr>\n",
       "  </tbody>\n",
       "</table>\n",
       "</div>"
      ],
      "text/plain": [
       "     Unnamed: 0            datetime  tweet_count   team\n",
       "226         226 2017-08-27 01:02:00     1.235870   💸🤑💰💵\n",
       "222         222 2017-08-27 01:01:00     1.224730   💸🤑💰💵\n",
       "211         211 2017-08-27 00:58:15     1.351328   💸🤑💰💵\n",
       "117         117 2017-08-27 00:34:45     0.448634   💸🤑💰💵\n",
       "436         158 2017-08-27 00:45:00     0.304631  ☘️🍀🇮🇪"
      ]
     },
     "execution_count": 6,
     "metadata": {},
     "output_type": "execute_result"
    }
   ],
   "source": [
    "df2.sample(5)"
   ]
  },
  {
   "cell_type": "code",
   "execution_count": 13,
   "metadata": {
    "colab": {
     "base_uri": "https://localhost:8080/",
     "height": 352
    },
    "colab_type": "code",
    "executionInfo": {
     "elapsed": 1877,
     "status": "ok",
     "timestamp": 1581093009085,
     "user": {
      "displayName": "Shiqing (Licia) He",
      "photoUrl": "https://lh3.googleusercontent.com/a-/AAuE7mCJxAelrpcgBANpLNYl7jHbfJVhnk621_KLm7fInA=s64",
      "userId": "10870840754198798102"
     },
     "user_tz": 300
    },
    "id": "PJ0BNAJKoDNv",
    "outputId": "71014b21-30f3-4731-f7e5-95da57b0c290"
   },
   "outputs": [
    {
     "data": {
      "text/html": [
       "\n",
       "<div id=\"altair-viz-c6289e9692434c9b841362a89ef0c759\"></div>\n",
       "<script type=\"text/javascript\">\n",
       "  var VEGA_DEBUG = (typeof VEGA_DEBUG == \"undefined\") ? {} : VEGA_DEBUG;\n",
       "  (function(spec, embedOpt){\n",
       "    let outputDiv = document.currentScript.previousElementSibling;\n",
       "    if (outputDiv.id !== \"altair-viz-c6289e9692434c9b841362a89ef0c759\") {\n",
       "      outputDiv = document.getElementById(\"altair-viz-c6289e9692434c9b841362a89ef0c759\");\n",
       "    }\n",
       "    const paths = {\n",
       "      \"vega\": \"https://cdn.jsdelivr.net/npm//vega@5?noext\",\n",
       "      \"vega-lib\": \"https://cdn.jsdelivr.net/npm//vega-lib?noext\",\n",
       "      \"vega-lite\": \"https://cdn.jsdelivr.net/npm//vega-lite@4.17.0?noext\",\n",
       "      \"vega-embed\": \"https://cdn.jsdelivr.net/npm//vega-embed@6?noext\",\n",
       "    };\n",
       "\n",
       "    function maybeLoadScript(lib, version) {\n",
       "      var key = `${lib.replace(\"-\", \"\")}_version`;\n",
       "      return (VEGA_DEBUG[key] == version) ?\n",
       "        Promise.resolve(paths[lib]) :\n",
       "        new Promise(function(resolve, reject) {\n",
       "          var s = document.createElement('script');\n",
       "          document.getElementsByTagName(\"head\")[0].appendChild(s);\n",
       "          s.async = true;\n",
       "          s.onload = () => {\n",
       "            VEGA_DEBUG[key] = version;\n",
       "            return resolve(paths[lib]);\n",
       "          };\n",
       "          s.onerror = () => reject(`Error loading script: ${paths[lib]}`);\n",
       "          s.src = paths[lib];\n",
       "        });\n",
       "    }\n",
       "\n",
       "    function showError(err) {\n",
       "      outputDiv.innerHTML = `<div class=\"error\" style=\"color:red;\">${err}</div>`;\n",
       "      throw err;\n",
       "    }\n",
       "\n",
       "    function displayChart(vegaEmbed) {\n",
       "      vegaEmbed(outputDiv, spec, embedOpt)\n",
       "        .catch(err => showError(`Javascript Error: ${err.message}<br>This usually means there's a typo in your chart specification. See the javascript console for the full traceback.`));\n",
       "    }\n",
       "\n",
       "    if(typeof define === \"function\" && define.amd) {\n",
       "      requirejs.config({paths});\n",
       "      require([\"vega-embed\"], displayChart, err => showError(`Error loading script: ${err.message}`));\n",
       "    } else {\n",
       "      maybeLoadScript(\"vega\", \"5\")\n",
       "        .then(() => maybeLoadScript(\"vega-lite\", \"4.17.0\"))\n",
       "        .then(() => maybeLoadScript(\"vega-embed\", \"6\"))\n",
       "        .catch(showError)\n",
       "        .then(() => displayChart(vegaEmbed));\n",
       "    }\n",
       "  })({\"config\": {\"view\": {\"continuousWidth\": 400, \"continuousHeight\": 300}}, \"layer\": [{\"mark\": {\"type\": \"line\", \"interpolate\": \"basis\"}, \"encoding\": {\"color\": {\"field\": \"team\", \"type\": \"nominal\"}, \"x\": {\"field\": \"datetime\", \"type\": \"temporal\"}, \"y\": {\"field\": \"tweet_count\", \"type\": \"quantitative\"}}}, {\"mark\": \"point\", \"encoding\": {\"opacity\": {\"value\": 0}, \"x\": {\"field\": \"datetime\", \"type\": \"temporal\"}}, \"selection\": {\"selector007\": {\"type\": \"single\", \"nearest\": true, \"on\": \"mouseover\", \"fields\": [\"datetime\"], \"empty\": \"none\"}}}, {\"mark\": \"point\", \"encoding\": {\"color\": {\"field\": \"team\", \"type\": \"nominal\"}, \"opacity\": {\"condition\": {\"value\": 1, \"selection\": \"selector003\"}, \"value\": 0}, \"x\": {\"field\": \"datetime\", \"type\": \"temporal\"}, \"y\": {\"field\": \"tweet_count\", \"type\": \"quantitative\"}}}, {\"mark\": {\"type\": \"rule\", \"color\": \"gray\"}, \"encoding\": {\"x\": {\"field\": \"datetime\", \"type\": \"temporal\"}}, \"transform\": [{\"filter\": {\"selection\": \"selector003\"}}]}, {\"mark\": {\"type\": \"text\", \"align\": \"left\", \"dx\": 5, \"dy\": -5}, \"encoding\": {\"color\": {\"field\": \"team\", \"type\": \"nominal\"}, \"text\": {\"condition\": {\"field\": \"tweet_count\", \"type\": \"quantitative\", \"selection\": \"selector003\"}, \"value\": \" \"}, \"x\": {\"field\": \"datetime\", \"type\": \"temporal\"}, \"y\": {\"field\": \"tweet_count\", \"type\": \"quantitative\"}}}], \"data\": {\"name\": \"data-2d090ccd769a95f9426fc34cba5b1e59\"}, \"height\": 300, \"width\": 600, \"$schema\": \"https://vega.github.io/schema/vega-lite/v4.17.0.json\", \"datasets\": {\"data-2d090ccd769a95f9426fc34cba5b1e59\": [{\"Unnamed: 0\": 0, \"datetime\": \"2017-08-27T00:05:30\", \"tweet_count\": 2.774748161810684, \"team\": \"\\ud83d\\udcb8\\ud83e\\udd11\\ud83d\\udcb0\\ud83d\\udcb5\"}, {\"Unnamed: 0\": 1, \"datetime\": \"2017-08-27T00:05:45\", \"tweet_count\": 1.0906162955173322, \"team\": \"\\ud83d\\udcb8\\ud83e\\udd11\\ud83d\\udcb0\\ud83d\\udcb5\"}, {\"Unnamed: 0\": 2, \"datetime\": \"2017-08-27T00:06:00\", \"tweet_count\": 0.7978197729537929, \"team\": \"\\ud83d\\udcb8\\ud83e\\udd11\\ud83d\\udcb0\\ud83d\\udcb5\"}, {\"Unnamed: 0\": 3, \"datetime\": \"2017-08-27T00:06:15\", \"tweet_count\": 0.7563270531437325, \"team\": \"\\ud83d\\udcb8\\ud83e\\udd11\\ud83d\\udcb0\\ud83d\\udcb5\"}, {\"Unnamed: 0\": 4, \"datetime\": \"2017-08-27T00:06:30\", \"tweet_count\": 0.8022612945063461, \"team\": \"\\ud83d\\udcb8\\ud83e\\udd11\\ud83d\\udcb0\\ud83d\\udcb5\"}, {\"Unnamed: 0\": 5, \"datetime\": \"2017-08-27T00:06:45\", \"tweet_count\": 0.6901120109916374, \"team\": \"\\ud83d\\udcb8\\ud83e\\udd11\\ud83d\\udcb0\\ud83d\\udcb5\"}, {\"Unnamed: 0\": 6, \"datetime\": \"2017-08-27T00:07:00\", \"tweet_count\": 0.6481768984320003, \"team\": \"\\ud83d\\udcb8\\ud83e\\udd11\\ud83d\\udcb0\\ud83d\\udcb5\"}, {\"Unnamed: 0\": 7, \"datetime\": \"2017-08-27T00:07:15\", \"tweet_count\": 0.6823777071087693, \"team\": \"\\ud83d\\udcb8\\ud83e\\udd11\\ud83d\\udcb0\\ud83d\\udcb5\"}, {\"Unnamed: 0\": 8, \"datetime\": \"2017-08-27T00:07:30\", \"tweet_count\": 0.6763417707924129, \"team\": \"\\ud83d\\udcb8\\ud83e\\udd11\\ud83d\\udcb0\\ud83d\\udcb5\"}, {\"Unnamed: 0\": 9, \"datetime\": \"2017-08-27T00:07:45\", \"tweet_count\": 0.6231063668033531, \"team\": \"\\ud83d\\udcb8\\ud83e\\udd11\\ud83d\\udcb0\\ud83d\\udcb5\"}, {\"Unnamed: 0\": 10, \"datetime\": \"2017-08-27T00:08:00\", \"tweet_count\": 0.5804756993136571, \"team\": \"\\ud83d\\udcb8\\ud83e\\udd11\\ud83d\\udcb0\\ud83d\\udcb5\"}, {\"Unnamed: 0\": 11, \"datetime\": \"2017-08-27T00:08:15\", \"tweet_count\": 0.5518534060992761, \"team\": \"\\ud83d\\udcb8\\ud83e\\udd11\\ud83d\\udcb0\\ud83d\\udcb5\"}, {\"Unnamed: 0\": 12, \"datetime\": \"2017-08-27T00:08:30\", \"tweet_count\": 0.5290670653185491, \"team\": \"\\ud83d\\udcb8\\ud83e\\udd11\\ud83d\\udcb0\\ud83d\\udcb5\"}, {\"Unnamed: 0\": 13, \"datetime\": \"2017-08-27T00:08:45\", \"tweet_count\": 0.5164818302909773, \"team\": \"\\ud83d\\udcb8\\ud83e\\udd11\\ud83d\\udcb0\\ud83d\\udcb5\"}, {\"Unnamed: 0\": 14, \"datetime\": \"2017-08-27T00:09:00\", \"tweet_count\": 0.4913737417147913, \"team\": \"\\ud83d\\udcb8\\ud83e\\udd11\\ud83d\\udcb0\\ud83d\\udcb5\"}, {\"Unnamed: 0\": 15, \"datetime\": \"2017-08-27T00:09:15\", \"tweet_count\": 0.4822851354439705, \"team\": \"\\ud83d\\udcb8\\ud83e\\udd11\\ud83d\\udcb0\\ud83d\\udcb5\"}, {\"Unnamed: 0\": 16, \"datetime\": \"2017-08-27T00:09:30\", \"tweet_count\": 0.4686281597541023, \"team\": \"\\ud83d\\udcb8\\ud83e\\udd11\\ud83d\\udcb0\\ud83d\\udcb5\"}, {\"Unnamed: 0\": 17, \"datetime\": \"2017-08-27T00:09:45\", \"tweet_count\": 0.4787885280150812, \"team\": \"\\ud83d\\udcb8\\ud83e\\udd11\\ud83d\\udcb0\\ud83d\\udcb5\"}, {\"Unnamed: 0\": 18, \"datetime\": \"2017-08-27T00:10:00\", \"tweet_count\": 0.5344080590730701, \"team\": \"\\ud83d\\udcb8\\ud83e\\udd11\\ud83d\\udcb0\\ud83d\\udcb5\"}, {\"Unnamed: 0\": 19, \"datetime\": \"2017-08-27T00:10:15\", \"tweet_count\": 0.5198241602029042, \"team\": \"\\ud83d\\udcb8\\ud83e\\udd11\\ud83d\\udcb0\\ud83d\\udcb5\"}, {\"Unnamed: 0\": 20, \"datetime\": \"2017-08-27T00:10:30\", \"tweet_count\": 0.4903536531569366, \"team\": \"\\ud83d\\udcb8\\ud83e\\udd11\\ud83d\\udcb0\\ud83d\\udcb5\"}, {\"Unnamed: 0\": 21, \"datetime\": \"2017-08-27T00:10:45\", \"tweet_count\": 0.4994594261557723, \"team\": \"\\ud83d\\udcb8\\ud83e\\udd11\\ud83d\\udcb0\\ud83d\\udcb5\"}, {\"Unnamed: 0\": 22, \"datetime\": \"2017-08-27T00:11:00\", \"tweet_count\": 0.4918575412768799, \"team\": \"\\ud83d\\udcb8\\ud83e\\udd11\\ud83d\\udcb0\\ud83d\\udcb5\"}, {\"Unnamed: 0\": 23, \"datetime\": \"2017-08-27T00:11:15\", \"tweet_count\": 0.4815455890658305, \"team\": \"\\ud83d\\udcb8\\ud83e\\udd11\\ud83d\\udcb0\\ud83d\\udcb5\"}, {\"Unnamed: 0\": 24, \"datetime\": \"2017-08-27T00:11:30\", \"tweet_count\": 0.5062953097507921, \"team\": \"\\ud83d\\udcb8\\ud83e\\udd11\\ud83d\\udcb0\\ud83d\\udcb5\"}, {\"Unnamed: 0\": 25, \"datetime\": \"2017-08-27T00:11:45\", \"tweet_count\": 0.5495857946660377, \"team\": \"\\ud83d\\udcb8\\ud83e\\udd11\\ud83d\\udcb0\\ud83d\\udcb5\"}, {\"Unnamed: 0\": 26, \"datetime\": \"2017-08-27T00:12:00\", \"tweet_count\": 0.7145796724706894, \"team\": \"\\ud83d\\udcb8\\ud83e\\udd11\\ud83d\\udcb0\\ud83d\\udcb5\"}, {\"Unnamed: 0\": 27, \"datetime\": \"2017-08-27T00:12:15\", \"tweet_count\": 0.7537521466430261, \"team\": \"\\ud83d\\udcb8\\ud83e\\udd11\\ud83d\\udcb0\\ud83d\\udcb5\"}, {\"Unnamed: 0\": 28, \"datetime\": \"2017-08-27T00:12:30\", \"tweet_count\": 0.824065436272611, \"team\": \"\\ud83d\\udcb8\\ud83e\\udd11\\ud83d\\udcb0\\ud83d\\udcb5\"}, {\"Unnamed: 0\": 29, \"datetime\": \"2017-08-27T00:12:45\", \"tweet_count\": 0.8814711455954782, \"team\": \"\\ud83d\\udcb8\\ud83e\\udd11\\ud83d\\udcb0\\ud83d\\udcb5\"}, {\"Unnamed: 0\": 30, \"datetime\": \"2017-08-27T00:13:00\", \"tweet_count\": 1.0344923688098202, \"team\": \"\\ud83d\\udcb8\\ud83e\\udd11\\ud83d\\udcb0\\ud83d\\udcb5\"}, {\"Unnamed: 0\": 31, \"datetime\": \"2017-08-27T00:13:15\", \"tweet_count\": 1.10785568811421, \"team\": \"\\ud83d\\udcb8\\ud83e\\udd11\\ud83d\\udcb0\\ud83d\\udcb5\"}, {\"Unnamed: 0\": 32, \"datetime\": \"2017-08-27T00:13:30\", \"tweet_count\": 1.150532748331771, \"team\": \"\\ud83d\\udcb8\\ud83e\\udd11\\ud83d\\udcb0\\ud83d\\udcb5\"}, {\"Unnamed: 0\": 33, \"datetime\": \"2017-08-27T00:13:45\", \"tweet_count\": 1.1275561136493577, \"team\": \"\\ud83d\\udcb8\\ud83e\\udd11\\ud83d\\udcb0\\ud83d\\udcb5\"}, {\"Unnamed: 0\": 34, \"datetime\": \"2017-08-27T00:14:00\", \"tweet_count\": 1.1178346917074369, \"team\": \"\\ud83d\\udcb8\\ud83e\\udd11\\ud83d\\udcb0\\ud83d\\udcb5\"}, {\"Unnamed: 0\": 35, \"datetime\": \"2017-08-27T00:14:15\", \"tweet_count\": 1.138856750291206, \"team\": \"\\ud83d\\udcb8\\ud83e\\udd11\\ud83d\\udcb0\\ud83d\\udcb5\"}, {\"Unnamed: 0\": 36, \"datetime\": \"2017-08-27T00:14:30\", \"tweet_count\": 1.123962280694228, \"team\": \"\\ud83d\\udcb8\\ud83e\\udd11\\ud83d\\udcb0\\ud83d\\udcb5\"}, {\"Unnamed: 0\": 37, \"datetime\": \"2017-08-27T00:14:45\", \"tweet_count\": 1.1538374735423222, \"team\": \"\\ud83d\\udcb8\\ud83e\\udd11\\ud83d\\udcb0\\ud83d\\udcb5\"}, {\"Unnamed: 0\": 38, \"datetime\": \"2017-08-27T00:15:00\", \"tweet_count\": 1.1814997098207685, \"team\": \"\\ud83d\\udcb8\\ud83e\\udd11\\ud83d\\udcb0\\ud83d\\udcb5\"}, {\"Unnamed: 0\": 39, \"datetime\": \"2017-08-27T00:15:15\", \"tweet_count\": 1.149388090890731, \"team\": \"\\ud83d\\udcb8\\ud83e\\udd11\\ud83d\\udcb0\\ud83d\\udcb5\"}, {\"Unnamed: 0\": 40, \"datetime\": \"2017-08-27T00:15:30\", \"tweet_count\": 1.0875509527033105, \"team\": \"\\ud83d\\udcb8\\ud83e\\udd11\\ud83d\\udcb0\\ud83d\\udcb5\"}, {\"Unnamed: 0\": 41, \"datetime\": \"2017-08-27T00:15:45\", \"tweet_count\": 1.0365659000100491, \"team\": \"\\ud83d\\udcb8\\ud83e\\udd11\\ud83d\\udcb0\\ud83d\\udcb5\"}, {\"Unnamed: 0\": 42, \"datetime\": \"2017-08-27T00:16:00\", \"tweet_count\": 0.8457835109202496, \"team\": \"\\ud83d\\udcb8\\ud83e\\udd11\\ud83d\\udcb0\\ud83d\\udcb5\"}, {\"Unnamed: 0\": 43, \"datetime\": \"2017-08-27T00:16:15\", \"tweet_count\": 0.8180951187576615, \"team\": \"\\ud83d\\udcb8\\ud83e\\udd11\\ud83d\\udcb0\\ud83d\\udcb5\"}, {\"Unnamed: 0\": 44, \"datetime\": \"2017-08-27T00:16:30\", \"tweet_count\": 0.7528274688336845, \"team\": \"\\ud83d\\udcb8\\ud83e\\udd11\\ud83d\\udcb0\\ud83d\\udcb5\"}, {\"Unnamed: 0\": 45, \"datetime\": \"2017-08-27T00:16:45\", \"tweet_count\": 0.7949096037110874, \"team\": \"\\ud83d\\udcb8\\ud83e\\udd11\\ud83d\\udcb0\\ud83d\\udcb5\"}, {\"Unnamed: 0\": 46, \"datetime\": \"2017-08-27T00:17:00\", \"tweet_count\": 0.6273310516126203, \"team\": \"\\ud83d\\udcb8\\ud83e\\udd11\\ud83d\\udcb0\\ud83d\\udcb5\"}, {\"Unnamed: 0\": 47, \"datetime\": \"2017-08-27T00:17:15\", \"tweet_count\": 0.6078550388589247, \"team\": \"\\ud83d\\udcb8\\ud83e\\udd11\\ud83d\\udcb0\\ud83d\\udcb5\"}, {\"Unnamed: 0\": 48, \"datetime\": \"2017-08-27T00:17:30\", \"tweet_count\": 0.4953330030043001, \"team\": \"\\ud83d\\udcb8\\ud83e\\udd11\\ud83d\\udcb0\\ud83d\\udcb5\"}, {\"Unnamed: 0\": 49, \"datetime\": \"2017-08-27T00:17:45\", \"tweet_count\": 0.5309536712068065, \"team\": \"\\ud83d\\udcb8\\ud83e\\udd11\\ud83d\\udcb0\\ud83d\\udcb5\"}, {\"Unnamed: 0\": 50, \"datetime\": \"2017-08-27T00:18:00\", \"tweet_count\": 0.43462704445168776, \"team\": \"\\ud83d\\udcb8\\ud83e\\udd11\\ud83d\\udcb0\\ud83d\\udcb5\"}, {\"Unnamed: 0\": 51, \"datetime\": \"2017-08-27T00:18:15\", \"tweet_count\": 0.4956504427161295, \"team\": \"\\ud83d\\udcb8\\ud83e\\udd11\\ud83d\\udcb0\\ud83d\\udcb5\"}, {\"Unnamed: 0\": 52, \"datetime\": \"2017-08-27T00:18:30\", \"tweet_count\": 0.5197662538857046, \"team\": \"\\ud83d\\udcb8\\ud83e\\udd11\\ud83d\\udcb0\\ud83d\\udcb5\"}, {\"Unnamed: 0\": 53, \"datetime\": \"2017-08-27T00:18:45\", \"tweet_count\": 0.4919498129445518, \"team\": \"\\ud83d\\udcb8\\ud83e\\udd11\\ud83d\\udcb0\\ud83d\\udcb5\"}, {\"Unnamed: 0\": 54, \"datetime\": \"2017-08-27T00:19:00\", \"tweet_count\": 0.4591329612436951, \"team\": \"\\ud83d\\udcb8\\ud83e\\udd11\\ud83d\\udcb0\\ud83d\\udcb5\"}, {\"Unnamed: 0\": 55, \"datetime\": \"2017-08-27T00:19:15\", \"tweet_count\": 0.4506347396923191, \"team\": \"\\ud83d\\udcb8\\ud83e\\udd11\\ud83d\\udcb0\\ud83d\\udcb5\"}, {\"Unnamed: 0\": 56, \"datetime\": \"2017-08-27T00:19:30\", \"tweet_count\": 0.4580047614344267, \"team\": \"\\ud83d\\udcb8\\ud83e\\udd11\\ud83d\\udcb0\\ud83d\\udcb5\"}, {\"Unnamed: 0\": 57, \"datetime\": \"2017-08-27T00:19:45\", \"tweet_count\": 0.4561107029588546, \"team\": \"\\ud83d\\udcb8\\ud83e\\udd11\\ud83d\\udcb0\\ud83d\\udcb5\"}, {\"Unnamed: 0\": 58, \"datetime\": \"2017-08-27T00:20:00\", \"tweet_count\": 0.5348250229076553, \"team\": \"\\ud83d\\udcb8\\ud83e\\udd11\\ud83d\\udcb0\\ud83d\\udcb5\"}, {\"Unnamed: 0\": 59, \"datetime\": \"2017-08-27T00:20:15\", \"tweet_count\": 0.7105423314154241, \"team\": \"\\ud83d\\udcb8\\ud83e\\udd11\\ud83d\\udcb0\\ud83d\\udcb5\"}, {\"Unnamed: 0\": 60, \"datetime\": \"2017-08-27T00:20:30\", \"tweet_count\": 0.6972745415101745, \"team\": \"\\ud83d\\udcb8\\ud83e\\udd11\\ud83d\\udcb0\\ud83d\\udcb5\"}, {\"Unnamed: 0\": 61, \"datetime\": \"2017-08-27T00:20:45\", \"tweet_count\": 0.6093189105098309, \"team\": \"\\ud83d\\udcb8\\ud83e\\udd11\\ud83d\\udcb0\\ud83d\\udcb5\"}, {\"Unnamed: 0\": 62, \"datetime\": \"2017-08-27T00:21:00\", \"tweet_count\": 0.6589016438323735, \"team\": \"\\ud83d\\udcb8\\ud83e\\udd11\\ud83d\\udcb0\\ud83d\\udcb5\"}, {\"Unnamed: 0\": 63, \"datetime\": \"2017-08-27T00:21:15\", \"tweet_count\": 0.6494418124090416, \"team\": \"\\ud83d\\udcb8\\ud83e\\udd11\\ud83d\\udcb0\\ud83d\\udcb5\"}, {\"Unnamed: 0\": 64, \"datetime\": \"2017-08-27T00:21:30\", \"tweet_count\": 0.6716849019987672, \"team\": \"\\ud83d\\udcb8\\ud83e\\udd11\\ud83d\\udcb0\\ud83d\\udcb5\"}, {\"Unnamed: 0\": 65, \"datetime\": \"2017-08-27T00:21:45\", \"tweet_count\": 0.6223138762975443, \"team\": \"\\ud83d\\udcb8\\ud83e\\udd11\\ud83d\\udcb0\\ud83d\\udcb5\"}, {\"Unnamed: 0\": 66, \"datetime\": \"2017-08-27T00:22:00\", \"tweet_count\": 0.6173974538735822, \"team\": \"\\ud83d\\udcb8\\ud83e\\udd11\\ud83d\\udcb0\\ud83d\\udcb5\"}, {\"Unnamed: 0\": 67, \"datetime\": \"2017-08-27T00:22:15\", \"tweet_count\": 0.5571099056019592, \"team\": \"\\ud83d\\udcb8\\ud83e\\udd11\\ud83d\\udcb0\\ud83d\\udcb5\"}, {\"Unnamed: 0\": 68, \"datetime\": \"2017-08-27T00:22:30\", \"tweet_count\": 0.5272831329234009, \"team\": \"\\ud83d\\udcb8\\ud83e\\udd11\\ud83d\\udcb0\\ud83d\\udcb5\"}, {\"Unnamed: 0\": 69, \"datetime\": \"2017-08-27T00:22:45\", \"tweet_count\": 0.517867268962071, \"team\": \"\\ud83d\\udcb8\\ud83e\\udd11\\ud83d\\udcb0\\ud83d\\udcb5\"}, {\"Unnamed: 0\": 70, \"datetime\": \"2017-08-27T00:23:00\", \"tweet_count\": 0.5154708782735804, \"team\": \"\\ud83d\\udcb8\\ud83e\\udd11\\ud83d\\udcb0\\ud83d\\udcb5\"}, {\"Unnamed: 0\": 71, \"datetime\": \"2017-08-27T00:23:15\", \"tweet_count\": 0.5066984238010106, \"team\": \"\\ud83d\\udcb8\\ud83e\\udd11\\ud83d\\udcb0\\ud83d\\udcb5\"}, {\"Unnamed: 0\": 72, \"datetime\": \"2017-08-27T00:23:30\", \"tweet_count\": 0.4885567287756039, \"team\": \"\\ud83d\\udcb8\\ud83e\\udd11\\ud83d\\udcb0\\ud83d\\udcb5\"}, {\"Unnamed: 0\": 73, \"datetime\": \"2017-08-27T00:23:45\", \"tweet_count\": 0.4834993955417605, \"team\": \"\\ud83d\\udcb8\\ud83e\\udd11\\ud83d\\udcb0\\ud83d\\udcb5\"}, {\"Unnamed: 0\": 74, \"datetime\": \"2017-08-27T00:24:00\", \"tweet_count\": 0.3748456109568069, \"team\": \"\\ud83d\\udcb8\\ud83e\\udd11\\ud83d\\udcb0\\ud83d\\udcb5\"}, {\"Unnamed: 0\": 75, \"datetime\": \"2017-08-27T00:24:15\", \"tweet_count\": 0.19143612590631695, \"team\": \"\\ud83d\\udcb8\\ud83e\\udd11\\ud83d\\udcb0\\ud83d\\udcb5\"}, {\"Unnamed: 0\": 76, \"datetime\": \"2017-08-27T00:24:30\", \"tweet_count\": 0.18418686439188373, \"team\": \"\\ud83d\\udcb8\\ud83e\\udd11\\ud83d\\udcb0\\ud83d\\udcb5\"}, {\"Unnamed: 0\": 77, \"datetime\": \"2017-08-27T00:24:45\", \"tweet_count\": 0.1910558884649612, \"team\": \"\\ud83d\\udcb8\\ud83e\\udd11\\ud83d\\udcb0\\ud83d\\udcb5\"}, {\"Unnamed: 0\": 78, \"datetime\": \"2017-08-27T00:25:00\", \"tweet_count\": 0.15293672359140353, \"team\": \"\\ud83d\\udcb8\\ud83e\\udd11\\ud83d\\udcb0\\ud83d\\udcb5\"}, {\"Unnamed: 0\": 79, \"datetime\": \"2017-08-27T00:25:15\", \"tweet_count\": 0.138914804295609, \"team\": \"\\ud83d\\udcb8\\ud83e\\udd11\\ud83d\\udcb0\\ud83d\\udcb5\"}, {\"Unnamed: 0\": 80, \"datetime\": \"2017-08-27T00:25:30\", \"tweet_count\": 0.12326156478841782, \"team\": \"\\ud83d\\udcb8\\ud83e\\udd11\\ud83d\\udcb0\\ud83d\\udcb5\"}, {\"Unnamed: 0\": 81, \"datetime\": \"2017-08-27T00:25:45\", \"tweet_count\": 0.14213792300500802, \"team\": \"\\ud83d\\udcb8\\ud83e\\udd11\\ud83d\\udcb0\\ud83d\\udcb5\"}, {\"Unnamed: 0\": 82, \"datetime\": \"2017-08-27T00:26:00\", \"tweet_count\": 0.13705819191161026, \"team\": \"\\ud83d\\udcb8\\ud83e\\udd11\\ud83d\\udcb0\\ud83d\\udcb5\"}, {\"Unnamed: 0\": 83, \"datetime\": \"2017-08-27T00:26:15\", \"tweet_count\": 0.12589190078963858, \"team\": \"\\ud83d\\udcb8\\ud83e\\udd11\\ud83d\\udcb0\\ud83d\\udcb5\"}, {\"Unnamed: 0\": 84, \"datetime\": \"2017-08-27T00:26:30\", \"tweet_count\": 0.10443272986477503, \"team\": \"\\ud83d\\udcb8\\ud83e\\udd11\\ud83d\\udcb0\\ud83d\\udcb5\"}, {\"Unnamed: 0\": 85, \"datetime\": \"2017-08-27T00:26:45\", \"tweet_count\": 0.1119364824623722, \"team\": \"\\ud83d\\udcb8\\ud83e\\udd11\\ud83d\\udcb0\\ud83d\\udcb5\"}, {\"Unnamed: 0\": 86, \"datetime\": \"2017-08-27T00:27:00\", \"tweet_count\": 0.11279134847803385, \"team\": \"\\ud83d\\udcb8\\ud83e\\udd11\\ud83d\\udcb0\\ud83d\\udcb5\"}, {\"Unnamed: 0\": 87, \"datetime\": \"2017-08-27T00:27:15\", \"tweet_count\": 0.11372775483481025, \"team\": \"\\ud83d\\udcb8\\ud83e\\udd11\\ud83d\\udcb0\\ud83d\\udcb5\"}, {\"Unnamed: 0\": 88, \"datetime\": \"2017-08-27T00:27:30\", \"tweet_count\": 0.1278542406268452, \"team\": \"\\ud83d\\udcb8\\ud83e\\udd11\\ud83d\\udcb0\\ud83d\\udcb5\"}, {\"Unnamed: 0\": 89, \"datetime\": \"2017-08-27T00:27:45\", \"tweet_count\": 0.14438690714880875, \"team\": \"\\ud83d\\udcb8\\ud83e\\udd11\\ud83d\\udcb0\\ud83d\\udcb5\"}, {\"Unnamed: 0\": 90, \"datetime\": \"2017-08-27T00:28:00\", \"tweet_count\": 0.14543122647527085, \"team\": \"\\ud83d\\udcb8\\ud83e\\udd11\\ud83d\\udcb0\\ud83d\\udcb5\"}, {\"Unnamed: 0\": 91, \"datetime\": \"2017-08-27T00:28:15\", \"tweet_count\": 0.14519776400758816, \"team\": \"\\ud83d\\udcb8\\ud83e\\udd11\\ud83d\\udcb0\\ud83d\\udcb5\"}, {\"Unnamed: 0\": 92, \"datetime\": \"2017-08-27T00:28:30\", \"tweet_count\": 0.14084348694372664, \"team\": \"\\ud83d\\udcb8\\ud83e\\udd11\\ud83d\\udcb0\\ud83d\\udcb5\"}, {\"Unnamed: 0\": 93, \"datetime\": \"2017-08-27T00:28:45\", \"tweet_count\": 0.13044556303677754, \"team\": \"\\ud83d\\udcb8\\ud83e\\udd11\\ud83d\\udcb0\\ud83d\\udcb5\"}, {\"Unnamed: 0\": 94, \"datetime\": \"2017-08-27T00:29:00\", \"tweet_count\": 0.13275114886824005, \"team\": \"\\ud83d\\udcb8\\ud83e\\udd11\\ud83d\\udcb0\\ud83d\\udcb5\"}, {\"Unnamed: 0\": 95, \"datetime\": \"2017-08-27T00:29:15\", \"tweet_count\": 0.11787508014258095, \"team\": \"\\ud83d\\udcb8\\ud83e\\udd11\\ud83d\\udcb0\\ud83d\\udcb5\"}, {\"Unnamed: 0\": 96, \"datetime\": \"2017-08-27T00:29:30\", \"tweet_count\": 0.10494123440767487, \"team\": \"\\ud83d\\udcb8\\ud83e\\udd11\\ud83d\\udcb0\\ud83d\\udcb5\"}, {\"Unnamed: 0\": 97, \"datetime\": \"2017-08-27T00:29:45\", \"tweet_count\": 0.08562314183089556, \"team\": \"\\ud83d\\udcb8\\ud83e\\udd11\\ud83d\\udcb0\\ud83d\\udcb5\"}, {\"Unnamed: 0\": 98, \"datetime\": \"2017-08-27T00:30:00\", \"tweet_count\": 0.10332820720954748, \"team\": \"\\ud83d\\udcb8\\ud83e\\udd11\\ud83d\\udcb0\\ud83d\\udcb5\"}, {\"Unnamed: 0\": 99, \"datetime\": \"2017-08-27T00:30:15\", \"tweet_count\": 0.10385509879918543, \"team\": \"\\ud83d\\udcb8\\ud83e\\udd11\\ud83d\\udcb0\\ud83d\\udcb5\"}, {\"Unnamed: 0\": 100, \"datetime\": \"2017-08-27T00:30:30\", \"tweet_count\": 0.09855509612283117, \"team\": \"\\ud83d\\udcb8\\ud83e\\udd11\\ud83d\\udcb0\\ud83d\\udcb5\"}, {\"Unnamed: 0\": 101, \"datetime\": \"2017-08-27T00:30:45\", \"tweet_count\": 0.0694012210339131, \"team\": \"\\ud83d\\udcb8\\ud83e\\udd11\\ud83d\\udcb0\\ud83d\\udcb5\"}, {\"Unnamed: 0\": 102, \"datetime\": \"2017-08-27T00:31:00\", \"tweet_count\": 0.12874248640361868, \"team\": \"\\ud83d\\udcb8\\ud83e\\udd11\\ud83d\\udcb0\\ud83d\\udcb5\"}, {\"Unnamed: 0\": 103, \"datetime\": \"2017-08-27T00:31:15\", \"tweet_count\": 0.15703882177161932, \"team\": \"\\ud83d\\udcb8\\ud83e\\udd11\\ud83d\\udcb0\\ud83d\\udcb5\"}, {\"Unnamed: 0\": 104, \"datetime\": \"2017-08-27T00:31:30\", \"tweet_count\": 0.1842886749227144, \"team\": \"\\ud83d\\udcb8\\ud83e\\udd11\\ud83d\\udcb0\\ud83d\\udcb5\"}, {\"Unnamed: 0\": 105, \"datetime\": \"2017-08-27T00:31:45\", \"tweet_count\": 0.24179337945403695, \"team\": \"\\ud83d\\udcb8\\ud83e\\udd11\\ud83d\\udcb0\\ud83d\\udcb5\"}, {\"Unnamed: 0\": 106, \"datetime\": \"2017-08-27T00:32:00\", \"tweet_count\": 0.2771230731358076, \"team\": \"\\ud83d\\udcb8\\ud83e\\udd11\\ud83d\\udcb0\\ud83d\\udcb5\"}, {\"Unnamed: 0\": 107, \"datetime\": \"2017-08-27T00:32:15\", \"tweet_count\": 0.27674928828188755, \"team\": \"\\ud83d\\udcb8\\ud83e\\udd11\\ud83d\\udcb0\\ud83d\\udcb5\"}, {\"Unnamed: 0\": 108, \"datetime\": \"2017-08-27T00:32:30\", \"tweet_count\": 0.2810288515757188, \"team\": \"\\ud83d\\udcb8\\ud83e\\udd11\\ud83d\\udcb0\\ud83d\\udcb5\"}, {\"Unnamed: 0\": 109, \"datetime\": \"2017-08-27T00:32:45\", \"tweet_count\": 0.28514999044236405, \"team\": \"\\ud83d\\udcb8\\ud83e\\udd11\\ud83d\\udcb0\\ud83d\\udcb5\"}, {\"Unnamed: 0\": 110, \"datetime\": \"2017-08-27T00:33:00\", \"tweet_count\": 0.2651932379907104, \"team\": \"\\ud83d\\udcb8\\ud83e\\udd11\\ud83d\\udcb0\\ud83d\\udcb5\"}, {\"Unnamed: 0\": 111, \"datetime\": \"2017-08-27T00:33:15\", \"tweet_count\": 0.2811131225985885, \"team\": \"\\ud83d\\udcb8\\ud83e\\udd11\\ud83d\\udcb0\\ud83d\\udcb5\"}, {\"Unnamed: 0\": 112, \"datetime\": \"2017-08-27T00:33:30\", \"tweet_count\": 0.3278646044597979, \"team\": \"\\ud83d\\udcb8\\ud83e\\udd11\\ud83d\\udcb0\\ud83d\\udcb5\"}, {\"Unnamed: 0\": 113, \"datetime\": \"2017-08-27T00:33:45\", \"tweet_count\": 0.3387737253210472, \"team\": \"\\ud83d\\udcb8\\ud83e\\udd11\\ud83d\\udcb0\\ud83d\\udcb5\"}, {\"Unnamed: 0\": 114, \"datetime\": \"2017-08-27T00:34:00\", \"tweet_count\": 0.33104624126697485, \"team\": \"\\ud83d\\udcb8\\ud83e\\udd11\\ud83d\\udcb0\\ud83d\\udcb5\"}, {\"Unnamed: 0\": 115, \"datetime\": \"2017-08-27T00:34:15\", \"tweet_count\": 0.4104694994345096, \"team\": \"\\ud83d\\udcb8\\ud83e\\udd11\\ud83d\\udcb0\\ud83d\\udcb5\"}, {\"Unnamed: 0\": 116, \"datetime\": \"2017-08-27T00:34:30\", \"tweet_count\": 0.4256276627043737, \"team\": \"\\ud83d\\udcb8\\ud83e\\udd11\\ud83d\\udcb0\\ud83d\\udcb5\"}, {\"Unnamed: 0\": 117, \"datetime\": \"2017-08-27T00:34:45\", \"tweet_count\": 0.4486336278421572, \"team\": \"\\ud83d\\udcb8\\ud83e\\udd11\\ud83d\\udcb0\\ud83d\\udcb5\"}, {\"Unnamed: 0\": 118, \"datetime\": \"2017-08-27T00:35:00\", \"tweet_count\": 0.4243210497822945, \"team\": \"\\ud83d\\udcb8\\ud83e\\udd11\\ud83d\\udcb0\\ud83d\\udcb5\"}, {\"Unnamed: 0\": 119, \"datetime\": \"2017-08-27T00:35:15\", \"tweet_count\": 0.3910666840033397, \"team\": \"\\ud83d\\udcb8\\ud83e\\udd11\\ud83d\\udcb0\\ud83d\\udcb5\"}, {\"Unnamed: 0\": 120, \"datetime\": \"2017-08-27T00:35:30\", \"tweet_count\": 0.3565482522192325, \"team\": \"\\ud83d\\udcb8\\ud83e\\udd11\\ud83d\\udcb0\\ud83d\\udcb5\"}, {\"Unnamed: 0\": 121, \"datetime\": \"2017-08-27T00:35:45\", \"tweet_count\": 0.33025751548952165, \"team\": \"\\ud83d\\udcb8\\ud83e\\udd11\\ud83d\\udcb0\\ud83d\\udcb5\"}, {\"Unnamed: 0\": 122, \"datetime\": \"2017-08-27T00:36:00\", \"tweet_count\": 0.3514053060666973, \"team\": \"\\ud83d\\udcb8\\ud83e\\udd11\\ud83d\\udcb0\\ud83d\\udcb5\"}, {\"Unnamed: 0\": 123, \"datetime\": \"2017-08-27T00:36:15\", \"tweet_count\": 0.3591444170861261, \"team\": \"\\ud83d\\udcb8\\ud83e\\udd11\\ud83d\\udcb0\\ud83d\\udcb5\"}, {\"Unnamed: 0\": 124, \"datetime\": \"2017-08-27T00:36:30\", \"tweet_count\": 0.3665980780815416, \"team\": \"\\ud83d\\udcb8\\ud83e\\udd11\\ud83d\\udcb0\\ud83d\\udcb5\"}, {\"Unnamed: 0\": 125, \"datetime\": \"2017-08-27T00:36:45\", \"tweet_count\": 0.4059869502025331, \"team\": \"\\ud83d\\udcb8\\ud83e\\udd11\\ud83d\\udcb0\\ud83d\\udcb5\"}, {\"Unnamed: 0\": 126, \"datetime\": \"2017-08-27T00:37:00\", \"tweet_count\": 0.4963632380896253, \"team\": \"\\ud83d\\udcb8\\ud83e\\udd11\\ud83d\\udcb0\\ud83d\\udcb5\"}, {\"Unnamed: 0\": 127, \"datetime\": \"2017-08-27T00:37:15\", \"tweet_count\": 0.7538458430602621, \"team\": \"\\ud83d\\udcb8\\ud83e\\udd11\\ud83d\\udcb0\\ud83d\\udcb5\"}, {\"Unnamed: 0\": 128, \"datetime\": \"2017-08-27T00:37:30\", \"tweet_count\": 0.7208413270344622, \"team\": \"\\ud83d\\udcb8\\ud83e\\udd11\\ud83d\\udcb0\\ud83d\\udcb5\"}, {\"Unnamed: 0\": 129, \"datetime\": \"2017-08-27T00:37:45\", \"tweet_count\": 0.7244119402168708, \"team\": \"\\ud83d\\udcb8\\ud83e\\udd11\\ud83d\\udcb0\\ud83d\\udcb5\"}, {\"Unnamed: 0\": 130, \"datetime\": \"2017-08-27T00:38:00\", \"tweet_count\": 0.7201129415400078, \"team\": \"\\ud83d\\udcb8\\ud83e\\udd11\\ud83d\\udcb0\\ud83d\\udcb5\"}, {\"Unnamed: 0\": 131, \"datetime\": \"2017-08-27T00:38:15\", \"tweet_count\": 0.6647567196478275, \"team\": \"\\ud83d\\udcb8\\ud83e\\udd11\\ud83d\\udcb0\\ud83d\\udcb5\"}, {\"Unnamed: 0\": 132, \"datetime\": \"2017-08-27T00:38:30\", \"tweet_count\": 0.6635112821301297, \"team\": \"\\ud83d\\udcb8\\ud83e\\udd11\\ud83d\\udcb0\\ud83d\\udcb5\"}, {\"Unnamed: 0\": 133, \"datetime\": \"2017-08-27T00:38:45\", \"tweet_count\": 0.6527550485110529, \"team\": \"\\ud83d\\udcb8\\ud83e\\udd11\\ud83d\\udcb0\\ud83d\\udcb5\"}, {\"Unnamed: 0\": 134, \"datetime\": \"2017-08-27T00:39:00\", \"tweet_count\": 0.6442018063957677, \"team\": \"\\ud83d\\udcb8\\ud83e\\udd11\\ud83d\\udcb0\\ud83d\\udcb5\"}, {\"Unnamed: 0\": 135, \"datetime\": \"2017-08-27T00:39:15\", \"tweet_count\": 0.6566364478153158, \"team\": \"\\ud83d\\udcb8\\ud83e\\udd11\\ud83d\\udcb0\\ud83d\\udcb5\"}, {\"Unnamed: 0\": 136, \"datetime\": \"2017-08-27T00:39:30\", \"tweet_count\": 0.6447812119192354, \"team\": \"\\ud83d\\udcb8\\ud83e\\udd11\\ud83d\\udcb0\\ud83d\\udcb5\"}, {\"Unnamed: 0\": 137, \"datetime\": \"2017-08-27T00:39:45\", \"tweet_count\": 0.6159327685851175, \"team\": \"\\ud83d\\udcb8\\ud83e\\udd11\\ud83d\\udcb0\\ud83d\\udcb5\"}, {\"Unnamed: 0\": 138, \"datetime\": \"2017-08-27T00:40:00\", \"tweet_count\": 0.6523818939218311, \"team\": \"\\ud83d\\udcb8\\ud83e\\udd11\\ud83d\\udcb0\\ud83d\\udcb5\"}, {\"Unnamed: 0\": 139, \"datetime\": \"2017-08-27T00:40:15\", \"tweet_count\": 0.7500187731854336, \"team\": \"\\ud83d\\udcb8\\ud83e\\udd11\\ud83d\\udcb0\\ud83d\\udcb5\"}, {\"Unnamed: 0\": 140, \"datetime\": \"2017-08-27T00:40:30\", \"tweet_count\": 0.7477601879733826, \"team\": \"\\ud83d\\udcb8\\ud83e\\udd11\\ud83d\\udcb0\\ud83d\\udcb5\"}, {\"Unnamed: 0\": 141, \"datetime\": \"2017-08-27T00:40:45\", \"tweet_count\": 0.7077301544158993, \"team\": \"\\ud83d\\udcb8\\ud83e\\udd11\\ud83d\\udcb0\\ud83d\\udcb5\"}, {\"Unnamed: 0\": 142, \"datetime\": \"2017-08-27T00:41:00\", \"tweet_count\": 0.6233462083646077, \"team\": \"\\ud83d\\udcb8\\ud83e\\udd11\\ud83d\\udcb0\\ud83d\\udcb5\"}, {\"Unnamed: 0\": 143, \"datetime\": \"2017-08-27T00:41:15\", \"tweet_count\": 0.3072001850320101, \"team\": \"\\ud83d\\udcb8\\ud83e\\udd11\\ud83d\\udcb0\\ud83d\\udcb5\"}, {\"Unnamed: 0\": 144, \"datetime\": \"2017-08-27T00:41:30\", \"tweet_count\": 0.2988706979375919, \"team\": \"\\ud83d\\udcb8\\ud83e\\udd11\\ud83d\\udcb0\\ud83d\\udcb5\"}, {\"Unnamed: 0\": 145, \"datetime\": \"2017-08-27T00:41:45\", \"tweet_count\": 0.3297831717346781, \"team\": \"\\ud83d\\udcb8\\ud83e\\udd11\\ud83d\\udcb0\\ud83d\\udcb5\"}, {\"Unnamed: 0\": 146, \"datetime\": \"2017-08-27T00:42:00\", \"tweet_count\": 0.35276265579489396, \"team\": \"\\ud83d\\udcb8\\ud83e\\udd11\\ud83d\\udcb0\\ud83d\\udcb5\"}, {\"Unnamed: 0\": 147, \"datetime\": \"2017-08-27T00:42:15\", \"tweet_count\": 0.3835622525306732, \"team\": \"\\ud83d\\udcb8\\ud83e\\udd11\\ud83d\\udcb0\\ud83d\\udcb5\"}, {\"Unnamed: 0\": 148, \"datetime\": \"2017-08-27T00:42:30\", \"tweet_count\": 0.3640848326192001, \"team\": \"\\ud83d\\udcb8\\ud83e\\udd11\\ud83d\\udcb0\\ud83d\\udcb5\"}, {\"Unnamed: 0\": 149, \"datetime\": \"2017-08-27T00:42:45\", \"tweet_count\": 0.35291459754634386, \"team\": \"\\ud83d\\udcb8\\ud83e\\udd11\\ud83d\\udcb0\\ud83d\\udcb5\"}, {\"Unnamed: 0\": 150, \"datetime\": \"2017-08-27T00:43:00\", \"tweet_count\": 0.36081145765117295, \"team\": \"\\ud83d\\udcb8\\ud83e\\udd11\\ud83d\\udcb0\\ud83d\\udcb5\"}, {\"Unnamed: 0\": 151, \"datetime\": \"2017-08-27T00:43:15\", \"tweet_count\": 0.5382800224750565, \"team\": \"\\ud83d\\udcb8\\ud83e\\udd11\\ud83d\\udcb0\\ud83d\\udcb5\"}, {\"Unnamed: 0\": 152, \"datetime\": \"2017-08-27T00:43:30\", \"tweet_count\": 1.1605269740675141, \"team\": \"\\ud83d\\udcb8\\ud83e\\udd11\\ud83d\\udcb0\\ud83d\\udcb5\"}, {\"Unnamed: 0\": 153, \"datetime\": \"2017-08-27T00:43:45\", \"tweet_count\": 1.1449685755906882, \"team\": \"\\ud83d\\udcb8\\ud83e\\udd11\\ud83d\\udcb0\\ud83d\\udcb5\"}, {\"Unnamed: 0\": 154, \"datetime\": \"2017-08-27T00:44:00\", \"tweet_count\": 1.0480802704355308, \"team\": \"\\ud83d\\udcb8\\ud83e\\udd11\\ud83d\\udcb0\\ud83d\\udcb5\"}, {\"Unnamed: 0\": 155, \"datetime\": \"2017-08-27T00:44:15\", \"tweet_count\": 0.9627753205457388, \"team\": \"\\ud83d\\udcb8\\ud83e\\udd11\\ud83d\\udcb0\\ud83d\\udcb5\"}, {\"Unnamed: 0\": 156, \"datetime\": \"2017-08-27T00:44:30\", \"tweet_count\": 0.9571741501739413, \"team\": \"\\ud83d\\udcb8\\ud83e\\udd11\\ud83d\\udcb0\\ud83d\\udcb5\"}, {\"Unnamed: 0\": 157, \"datetime\": \"2017-08-27T00:44:45\", \"tweet_count\": 0.9504190474105368, \"team\": \"\\ud83d\\udcb8\\ud83e\\udd11\\ud83d\\udcb0\\ud83d\\udcb5\"}, {\"Unnamed: 0\": 158, \"datetime\": \"2017-08-27T00:45:00\", \"tweet_count\": 0.9865983175722024, \"team\": \"\\ud83d\\udcb8\\ud83e\\udd11\\ud83d\\udcb0\\ud83d\\udcb5\"}, {\"Unnamed: 0\": 159, \"datetime\": \"2017-08-27T00:45:15\", \"tweet_count\": 1.0133691266462659, \"team\": \"\\ud83d\\udcb8\\ud83e\\udd11\\ud83d\\udcb0\\ud83d\\udcb5\"}, {\"Unnamed: 0\": 160, \"datetime\": \"2017-08-27T00:45:30\", \"tweet_count\": 1.0490967259232948, \"team\": \"\\ud83d\\udcb8\\ud83e\\udd11\\ud83d\\udcb0\\ud83d\\udcb5\"}, {\"Unnamed: 0\": 161, \"datetime\": \"2017-08-27T00:45:45\", \"tweet_count\": 0.9952701340916359, \"team\": \"\\ud83d\\udcb8\\ud83e\\udd11\\ud83d\\udcb0\\ud83d\\udcb5\"}, {\"Unnamed: 0\": 162, \"datetime\": \"2017-08-27T00:46:00\", \"tweet_count\": 0.9709061361939312, \"team\": \"\\ud83d\\udcb8\\ud83e\\udd11\\ud83d\\udcb0\\ud83d\\udcb5\"}, {\"Unnamed: 0\": 163, \"datetime\": \"2017-08-27T00:46:15\", \"tweet_count\": 0.943256118152242, \"team\": \"\\ud83d\\udcb8\\ud83e\\udd11\\ud83d\\udcb0\\ud83d\\udcb5\"}, {\"Unnamed: 0\": 164, \"datetime\": \"2017-08-27T00:46:30\", \"tweet_count\": 0.945888975764042, \"team\": \"\\ud83d\\udcb8\\ud83e\\udd11\\ud83d\\udcb0\\ud83d\\udcb5\"}, {\"Unnamed: 0\": 165, \"datetime\": \"2017-08-27T00:46:45\", \"tweet_count\": 0.9791711425254764, \"team\": \"\\ud83d\\udcb8\\ud83e\\udd11\\ud83d\\udcb0\\ud83d\\udcb5\"}, {\"Unnamed: 0\": 166, \"datetime\": \"2017-08-27T00:47:00\", \"tweet_count\": 1.0229015508452048, \"team\": \"\\ud83d\\udcb8\\ud83e\\udd11\\ud83d\\udcb0\\ud83d\\udcb5\"}, {\"Unnamed: 0\": 167, \"datetime\": \"2017-08-27T00:47:15\", \"tweet_count\": 0.8766678457556903, \"team\": \"\\ud83d\\udcb8\\ud83e\\udd11\\ud83d\\udcb0\\ud83d\\udcb5\"}, {\"Unnamed: 0\": 168, \"datetime\": \"2017-08-27T00:47:30\", \"tweet_count\": 0.23973588557883604, \"team\": \"\\ud83d\\udcb8\\ud83e\\udd11\\ud83d\\udcb0\\ud83d\\udcb5\"}, {\"Unnamed: 0\": 169, \"datetime\": \"2017-08-27T00:47:45\", \"tweet_count\": 0.23689782428004605, \"team\": \"\\ud83d\\udcb8\\ud83e\\udd11\\ud83d\\udcb0\\ud83d\\udcb5\"}, {\"Unnamed: 0\": 170, \"datetime\": \"2017-08-27T00:48:00\", \"tweet_count\": 0.23136406753603134, \"team\": \"\\ud83d\\udcb8\\ud83e\\udd11\\ud83d\\udcb0\\ud83d\\udcb5\"}, {\"Unnamed: 0\": 171, \"datetime\": \"2017-08-27T00:48:15\", \"tweet_count\": 0.2949218017200646, \"team\": \"\\ud83d\\udcb8\\ud83e\\udd11\\ud83d\\udcb0\\ud83d\\udcb5\"}, {\"Unnamed: 0\": 172, \"datetime\": \"2017-08-27T00:48:30\", \"tweet_count\": 0.3012303025400347, \"team\": \"\\ud83d\\udcb8\\ud83e\\udd11\\ud83d\\udcb0\\ud83d\\udcb5\"}, {\"Unnamed: 0\": 173, \"datetime\": \"2017-08-27T00:48:45\", \"tweet_count\": 0.2956832713019108, \"team\": \"\\ud83d\\udcb8\\ud83e\\udd11\\ud83d\\udcb0\\ud83d\\udcb5\"}, {\"Unnamed: 0\": 174, \"datetime\": \"2017-08-27T00:49:00\", \"tweet_count\": 0.2542069754231531, \"team\": \"\\ud83d\\udcb8\\ud83e\\udd11\\ud83d\\udcb0\\ud83d\\udcb5\"}, {\"Unnamed: 0\": 175, \"datetime\": \"2017-08-27T00:49:15\", \"tweet_count\": 0.3060982163361203, \"team\": \"\\ud83d\\udcb8\\ud83e\\udd11\\ud83d\\udcb0\\ud83d\\udcb5\"}, {\"Unnamed: 0\": 176, \"datetime\": \"2017-08-27T00:49:30\", \"tweet_count\": 0.3049306885462185, \"team\": \"\\ud83d\\udcb8\\ud83e\\udd11\\ud83d\\udcb0\\ud83d\\udcb5\"}, {\"Unnamed: 0\": 177, \"datetime\": \"2017-08-27T00:49:45\", \"tweet_count\": 0.3058936914268034, \"team\": \"\\ud83d\\udcb8\\ud83e\\udd11\\ud83d\\udcb0\\ud83d\\udcb5\"}, {\"Unnamed: 0\": 178, \"datetime\": \"2017-08-27T00:50:00\", \"tweet_count\": 0.3228806868075643, \"team\": \"\\ud83d\\udcb8\\ud83e\\udd11\\ud83d\\udcb0\\ud83d\\udcb5\"}, {\"Unnamed: 0\": 179, \"datetime\": \"2017-08-27T00:50:15\", \"tweet_count\": 0.3459165873249468, \"team\": \"\\ud83d\\udcb8\\ud83e\\udd11\\ud83d\\udcb0\\ud83d\\udcb5\"}, {\"Unnamed: 0\": 180, \"datetime\": \"2017-08-27T00:50:30\", \"tweet_count\": 0.3502108740644982, \"team\": \"\\ud83d\\udcb8\\ud83e\\udd11\\ud83d\\udcb0\\ud83d\\udcb5\"}, {\"Unnamed: 0\": 181, \"datetime\": \"2017-08-27T00:50:45\", \"tweet_count\": 0.3612700567113911, \"team\": \"\\ud83d\\udcb8\\ud83e\\udd11\\ud83d\\udcb0\\ud83d\\udcb5\"}, {\"Unnamed: 0\": 182, \"datetime\": \"2017-08-27T00:51:00\", \"tweet_count\": 0.35613124210444724, \"team\": \"\\ud83d\\udcb8\\ud83e\\udd11\\ud83d\\udcb0\\ud83d\\udcb5\"}, {\"Unnamed: 0\": 183, \"datetime\": \"2017-08-27T00:51:15\", \"tweet_count\": 0.3882206233312136, \"team\": \"\\ud83d\\udcb8\\ud83e\\udd11\\ud83d\\udcb0\\ud83d\\udcb5\"}, {\"Unnamed: 0\": 184, \"datetime\": \"2017-08-27T00:51:30\", \"tweet_count\": 0.4734221512424459, \"team\": \"\\ud83d\\udcb8\\ud83e\\udd11\\ud83d\\udcb0\\ud83d\\udcb5\"}, {\"Unnamed: 0\": 185, \"datetime\": \"2017-08-27T00:51:45\", \"tweet_count\": 0.6005040871269179, \"team\": \"\\ud83d\\udcb8\\ud83e\\udd11\\ud83d\\udcb0\\ud83d\\udcb5\"}, {\"Unnamed: 0\": 186, \"datetime\": \"2017-08-27T00:52:00\", \"tweet_count\": 0.7088602932200812, \"team\": \"\\ud83d\\udcb8\\ud83e\\udd11\\ud83d\\udcb0\\ud83d\\udcb5\"}, {\"Unnamed: 0\": 187, \"datetime\": \"2017-08-27T00:52:15\", \"tweet_count\": 0.7691034921879896, \"team\": \"\\ud83d\\udcb8\\ud83e\\udd11\\ud83d\\udcb0\\ud83d\\udcb5\"}, {\"Unnamed: 0\": 188, \"datetime\": \"2017-08-27T00:52:30\", \"tweet_count\": 0.9421560492014902, \"team\": \"\\ud83d\\udcb8\\ud83e\\udd11\\ud83d\\udcb0\\ud83d\\udcb5\"}, {\"Unnamed: 0\": 189, \"datetime\": \"2017-08-27T00:52:45\", \"tweet_count\": 1.193985173112809, \"team\": \"\\ud83d\\udcb8\\ud83e\\udd11\\ud83d\\udcb0\\ud83d\\udcb5\"}, {\"Unnamed: 0\": 190, \"datetime\": \"2017-08-27T00:53:00\", \"tweet_count\": 1.2758209178416615, \"team\": \"\\ud83d\\udcb8\\ud83e\\udd11\\ud83d\\udcb0\\ud83d\\udcb5\"}, {\"Unnamed: 0\": 191, \"datetime\": \"2017-08-27T00:53:15\", \"tweet_count\": 1.4001734793278968, \"team\": \"\\ud83d\\udcb8\\ud83e\\udd11\\ud83d\\udcb0\\ud83d\\udcb5\"}, {\"Unnamed: 0\": 192, \"datetime\": \"2017-08-27T00:53:30\", \"tweet_count\": 1.476156005823118, \"team\": \"\\ud83d\\udcb8\\ud83e\\udd11\\ud83d\\udcb0\\ud83d\\udcb5\"}, {\"Unnamed: 0\": 193, \"datetime\": \"2017-08-27T00:53:45\", \"tweet_count\": 1.535899569819503, \"team\": \"\\ud83d\\udcb8\\ud83e\\udd11\\ud83d\\udcb0\\ud83d\\udcb5\"}, {\"Unnamed: 0\": 194, \"datetime\": \"2017-08-27T00:54:00\", \"tweet_count\": 1.5861069597055708, \"team\": \"\\ud83d\\udcb8\\ud83e\\udd11\\ud83d\\udcb0\\ud83d\\udcb5\"}, {\"Unnamed: 0\": 195, \"datetime\": \"2017-08-27T00:54:15\", \"tweet_count\": 1.6098945894043797, \"team\": \"\\ud83d\\udcb8\\ud83e\\udd11\\ud83d\\udcb0\\ud83d\\udcb5\"}, {\"Unnamed: 0\": 196, \"datetime\": \"2017-08-27T00:54:30\", \"tweet_count\": 1.7217361871019088, \"team\": \"\\ud83d\\udcb8\\ud83e\\udd11\\ud83d\\udcb0\\ud83d\\udcb5\"}, {\"Unnamed: 0\": 197, \"datetime\": \"2017-08-27T00:54:45\", \"tweet_count\": 1.707707361690847, \"team\": \"\\ud83d\\udcb8\\ud83e\\udd11\\ud83d\\udcb0\\ud83d\\udcb5\"}, {\"Unnamed: 0\": 198, \"datetime\": \"2017-08-27T00:55:00\", \"tweet_count\": 1.7351022428908536, \"team\": \"\\ud83d\\udcb8\\ud83e\\udd11\\ud83d\\udcb0\\ud83d\\udcb5\"}, {\"Unnamed: 0\": 199, \"datetime\": \"2017-08-27T00:55:15\", \"tweet_count\": 1.846689322040088, \"team\": \"\\ud83d\\udcb8\\ud83e\\udd11\\ud83d\\udcb0\\ud83d\\udcb5\"}, {\"Unnamed: 0\": 200, \"datetime\": \"2017-08-27T00:55:30\", \"tweet_count\": 1.7970221244418516, \"team\": \"\\ud83d\\udcb8\\ud83e\\udd11\\ud83d\\udcb0\\ud83d\\udcb5\"}, {\"Unnamed: 0\": 201, \"datetime\": \"2017-08-27T00:55:45\", \"tweet_count\": 1.7349346843315354, \"team\": \"\\ud83d\\udcb8\\ud83e\\udd11\\ud83d\\udcb0\\ud83d\\udcb5\"}, {\"Unnamed: 0\": 202, \"datetime\": \"2017-08-27T00:56:00\", \"tweet_count\": 1.7797236023736638, \"team\": \"\\ud83d\\udcb8\\ud83e\\udd11\\ud83d\\udcb0\\ud83d\\udcb5\"}, {\"Unnamed: 0\": 203, \"datetime\": \"2017-08-27T00:56:15\", \"tweet_count\": 1.7978136031093648, \"team\": \"\\ud83d\\udcb8\\ud83e\\udd11\\ud83d\\udcb0\\ud83d\\udcb5\"}, {\"Unnamed: 0\": 204, \"datetime\": \"2017-08-27T00:56:30\", \"tweet_count\": 1.7271794855711209, \"team\": \"\\ud83d\\udcb8\\ud83e\\udd11\\ud83d\\udcb0\\ud83d\\udcb5\"}, {\"Unnamed: 0\": 205, \"datetime\": \"2017-08-27T00:56:45\", \"tweet_count\": 1.5794572046148925, \"team\": \"\\ud83d\\udcb8\\ud83e\\udd11\\ud83d\\udcb0\\ud83d\\udcb5\"}, {\"Unnamed: 0\": 206, \"datetime\": \"2017-08-27T00:57:00\", \"tweet_count\": 1.5357131500076646, \"team\": \"\\ud83d\\udcb8\\ud83e\\udd11\\ud83d\\udcb0\\ud83d\\udcb5\"}, {\"Unnamed: 0\": 207, \"datetime\": \"2017-08-27T00:57:15\", \"tweet_count\": 1.4636461908239151, \"team\": \"\\ud83d\\udcb8\\ud83e\\udd11\\ud83d\\udcb0\\ud83d\\udcb5\"}, {\"Unnamed: 0\": 208, \"datetime\": \"2017-08-27T00:57:30\", \"tweet_count\": 1.4118527983063431, \"team\": \"\\ud83d\\udcb8\\ud83e\\udd11\\ud83d\\udcb0\\ud83d\\udcb5\"}, {\"Unnamed: 0\": 209, \"datetime\": \"2017-08-27T00:57:45\", \"tweet_count\": 1.4114267887615748, \"team\": \"\\ud83d\\udcb8\\ud83e\\udd11\\ud83d\\udcb0\\ud83d\\udcb5\"}, {\"Unnamed: 0\": 210, \"datetime\": \"2017-08-27T00:58:00\", \"tweet_count\": 1.3850457379706762, \"team\": \"\\ud83d\\udcb8\\ud83e\\udd11\\ud83d\\udcb0\\ud83d\\udcb5\"}, {\"Unnamed: 0\": 211, \"datetime\": \"2017-08-27T00:58:15\", \"tweet_count\": 1.3513280563769534, \"team\": \"\\ud83d\\udcb8\\ud83e\\udd11\\ud83d\\udcb0\\ud83d\\udcb5\"}, {\"Unnamed: 0\": 212, \"datetime\": \"2017-08-27T00:58:30\", \"tweet_count\": 1.2498073483511416, \"team\": \"\\ud83d\\udcb8\\ud83e\\udd11\\ud83d\\udcb0\\ud83d\\udcb5\"}, {\"Unnamed: 0\": 213, \"datetime\": \"2017-08-27T00:58:45\", \"tweet_count\": 1.2944838474184797, \"team\": \"\\ud83d\\udcb8\\ud83e\\udd11\\ud83d\\udcb0\\ud83d\\udcb5\"}, {\"Unnamed: 0\": 214, \"datetime\": \"2017-08-27T00:59:00\", \"tweet_count\": 1.2328827736533583, \"team\": \"\\ud83d\\udcb8\\ud83e\\udd11\\ud83d\\udcb0\\ud83d\\udcb5\"}, {\"Unnamed: 0\": 215, \"datetime\": \"2017-08-27T00:59:15\", \"tweet_count\": 1.1096935824489904, \"team\": \"\\ud83d\\udcb8\\ud83e\\udd11\\ud83d\\udcb0\\ud83d\\udcb5\"}, {\"Unnamed: 0\": 216, \"datetime\": \"2017-08-27T00:59:30\", \"tweet_count\": 1.11589320737777, \"team\": \"\\ud83d\\udcb8\\ud83e\\udd11\\ud83d\\udcb0\\ud83d\\udcb5\"}, {\"Unnamed: 0\": 217, \"datetime\": \"2017-08-27T00:59:45\", \"tweet_count\": 1.1053929226186796, \"team\": \"\\ud83d\\udcb8\\ud83e\\udd11\\ud83d\\udcb0\\ud83d\\udcb5\"}, {\"Unnamed: 0\": 218, \"datetime\": \"2017-08-27T01:00:00\", \"tweet_count\": 1.053280156988322, \"team\": \"\\ud83d\\udcb8\\ud83e\\udd11\\ud83d\\udcb0\\ud83d\\udcb5\"}, {\"Unnamed: 0\": 219, \"datetime\": \"2017-08-27T01:00:15\", \"tweet_count\": 1.3395884096565238, \"team\": \"\\ud83d\\udcb8\\ud83e\\udd11\\ud83d\\udcb0\\ud83d\\udcb5\"}, {\"Unnamed: 0\": 220, \"datetime\": \"2017-08-27T01:00:30\", \"tweet_count\": 1.319625712781724, \"team\": \"\\ud83d\\udcb8\\ud83e\\udd11\\ud83d\\udcb0\\ud83d\\udcb5\"}, {\"Unnamed: 0\": 221, \"datetime\": \"2017-08-27T01:00:45\", \"tweet_count\": 1.2747778526279645, \"team\": \"\\ud83d\\udcb8\\ud83e\\udd11\\ud83d\\udcb0\\ud83d\\udcb5\"}, {\"Unnamed: 0\": 222, \"datetime\": \"2017-08-27T01:01:00\", \"tweet_count\": 1.2247303204760531, \"team\": \"\\ud83d\\udcb8\\ud83e\\udd11\\ud83d\\udcb0\\ud83d\\udcb5\"}, {\"Unnamed: 0\": 223, \"datetime\": \"2017-08-27T01:01:15\", \"tweet_count\": 1.2022721514703107, \"team\": \"\\ud83d\\udcb8\\ud83e\\udd11\\ud83d\\udcb0\\ud83d\\udcb5\"}, {\"Unnamed: 0\": 224, \"datetime\": \"2017-08-27T01:01:30\", \"tweet_count\": 1.2201312644178701, \"team\": \"\\ud83d\\udcb8\\ud83e\\udd11\\ud83d\\udcb0\\ud83d\\udcb5\"}, {\"Unnamed: 0\": 225, \"datetime\": \"2017-08-27T01:01:45\", \"tweet_count\": 1.2105801317041298, \"team\": \"\\ud83d\\udcb8\\ud83e\\udd11\\ud83d\\udcb0\\ud83d\\udcb5\"}, {\"Unnamed: 0\": 226, \"datetime\": \"2017-08-27T01:02:00\", \"tweet_count\": 1.2358703836743952, \"team\": \"\\ud83d\\udcb8\\ud83e\\udd11\\ud83d\\udcb0\\ud83d\\udcb5\"}, {\"Unnamed: 0\": 227, \"datetime\": \"2017-08-27T01:02:15\", \"tweet_count\": 1.2392653310813009, \"team\": \"\\ud83d\\udcb8\\ud83e\\udd11\\ud83d\\udcb0\\ud83d\\udcb5\"}, {\"Unnamed: 0\": 228, \"datetime\": \"2017-08-27T01:02:30\", \"tweet_count\": 1.2671991723798015, \"team\": \"\\ud83d\\udcb8\\ud83e\\udd11\\ud83d\\udcb0\\ud83d\\udcb5\"}, {\"Unnamed: 0\": 229, \"datetime\": \"2017-08-27T01:02:45\", \"tweet_count\": 1.3362855600407206, \"team\": \"\\ud83d\\udcb8\\ud83e\\udd11\\ud83d\\udcb0\\ud83d\\udcb5\"}, {\"Unnamed: 0\": 230, \"datetime\": \"2017-08-27T01:03:00\", \"tweet_count\": 1.3416379352219048, \"team\": \"\\ud83d\\udcb8\\ud83e\\udd11\\ud83d\\udcb0\\ud83d\\udcb5\"}, {\"Unnamed: 0\": 231, \"datetime\": \"2017-08-27T01:03:15\", \"tweet_count\": 1.3665592454762805, \"team\": \"\\ud83d\\udcb8\\ud83e\\udd11\\ud83d\\udcb0\\ud83d\\udcb5\"}, {\"Unnamed: 0\": 232, \"datetime\": \"2017-08-27T01:03:30\", \"tweet_count\": 1.3747757007523476, \"team\": \"\\ud83d\\udcb8\\ud83e\\udd11\\ud83d\\udcb0\\ud83d\\udcb5\"}, {\"Unnamed: 0\": 233, \"datetime\": \"2017-08-27T01:03:45\", \"tweet_count\": 1.4084894984066505, \"team\": \"\\ud83d\\udcb8\\ud83e\\udd11\\ud83d\\udcb0\\ud83d\\udcb5\"}, {\"Unnamed: 0\": 234, \"datetime\": \"2017-08-27T01:04:00\", \"tweet_count\": 1.343927780766918, \"team\": \"\\ud83d\\udcb8\\ud83e\\udd11\\ud83d\\udcb0\\ud83d\\udcb5\"}, {\"Unnamed: 0\": 235, \"datetime\": \"2017-08-27T01:04:15\", \"tweet_count\": 0.966440518774116, \"team\": \"\\ud83d\\udcb8\\ud83e\\udd11\\ud83d\\udcb0\\ud83d\\udcb5\"}, {\"Unnamed: 0\": 236, \"datetime\": \"2017-08-27T01:04:30\", \"tweet_count\": 0.9412386652970812, \"team\": \"\\ud83d\\udcb8\\ud83e\\udd11\\ud83d\\udcb0\\ud83d\\udcb5\"}, {\"Unnamed: 0\": 237, \"datetime\": \"2017-08-27T01:04:45\", \"tweet_count\": 0.9473018001823972, \"team\": \"\\ud83d\\udcb8\\ud83e\\udd11\\ud83d\\udcb0\\ud83d\\udcb5\"}, {\"Unnamed: 0\": 238, \"datetime\": \"2017-08-27T01:05:00\", \"tweet_count\": 0.9803439845254532, \"team\": \"\\ud83d\\udcb8\\ud83e\\udd11\\ud83d\\udcb0\\ud83d\\udcb5\"}, {\"Unnamed: 0\": 239, \"datetime\": \"2017-08-27T01:05:15\", \"tweet_count\": 1.112818192867974, \"team\": \"\\ud83d\\udcb8\\ud83e\\udd11\\ud83d\\udcb0\\ud83d\\udcb5\"}, {\"Unnamed: 0\": 240, \"datetime\": \"2017-08-27T01:05:30\", \"tweet_count\": 1.1726243805401468, \"team\": \"\\ud83d\\udcb8\\ud83e\\udd11\\ud83d\\udcb0\\ud83d\\udcb5\"}, {\"Unnamed: 0\": 241, \"datetime\": \"2017-08-27T01:05:45\", \"tweet_count\": 1.096388581876095, \"team\": \"\\ud83d\\udcb8\\ud83e\\udd11\\ud83d\\udcb0\\ud83d\\udcb5\"}, {\"Unnamed: 0\": 242, \"datetime\": \"2017-08-27T01:06:00\", \"tweet_count\": 1.125635024600868, \"team\": \"\\ud83d\\udcb8\\ud83e\\udd11\\ud83d\\udcb0\\ud83d\\udcb5\"}, {\"Unnamed: 0\": 243, \"datetime\": \"2017-08-27T01:06:15\", \"tweet_count\": 1.1664517901786264, \"team\": \"\\ud83d\\udcb8\\ud83e\\udd11\\ud83d\\udcb0\\ud83d\\udcb5\"}, {\"Unnamed: 0\": 244, \"datetime\": \"2017-08-27T01:06:30\", \"tweet_count\": 1.1340951508355408, \"team\": \"\\ud83d\\udcb8\\ud83e\\udd11\\ud83d\\udcb0\\ud83d\\udcb5\"}, {\"Unnamed: 0\": 245, \"datetime\": \"2017-08-27T01:06:45\", \"tweet_count\": 0.9737079693081624, \"team\": \"\\ud83d\\udcb8\\ud83e\\udd11\\ud83d\\udcb0\\ud83d\\udcb5\"}, {\"Unnamed: 0\": 246, \"datetime\": \"2017-08-27T01:07:00\", \"tweet_count\": 0.9760852810566538, \"team\": \"\\ud83d\\udcb8\\ud83e\\udd11\\ud83d\\udcb0\\ud83d\\udcb5\"}, {\"Unnamed: 0\": 247, \"datetime\": \"2017-08-27T01:07:15\", \"tweet_count\": 0.9968184225361426, \"team\": \"\\ud83d\\udcb8\\ud83e\\udd11\\ud83d\\udcb0\\ud83d\\udcb5\"}, {\"Unnamed: 0\": 248, \"datetime\": \"2017-08-27T01:07:30\", \"tweet_count\": 0.9727469033464278, \"team\": \"\\ud83d\\udcb8\\ud83e\\udd11\\ud83d\\udcb0\\ud83d\\udcb5\"}, {\"Unnamed: 0\": 249, \"datetime\": \"2017-08-27T01:07:45\", \"tweet_count\": 1.8643781801710213, \"team\": \"\\ud83d\\udcb8\\ud83e\\udd11\\ud83d\\udcb0\\ud83d\\udcb5\"}, {\"Unnamed: 0\": 250, \"datetime\": \"2017-08-27T01:08:00\", \"tweet_count\": 1.9409263605738936, \"team\": \"\\ud83d\\udcb8\\ud83e\\udd11\\ud83d\\udcb0\\ud83d\\udcb5\"}, {\"Unnamed: 0\": 251, \"datetime\": \"2017-08-27T01:08:15\", \"tweet_count\": 1.9687041703882509, \"team\": \"\\ud83d\\udcb8\\ud83e\\udd11\\ud83d\\udcb0\\ud83d\\udcb5\"}, {\"Unnamed: 0\": 252, \"datetime\": \"2017-08-27T01:08:30\", \"tweet_count\": 2.022628457043156, \"team\": \"\\ud83d\\udcb8\\ud83e\\udd11\\ud83d\\udcb0\\ud83d\\udcb5\"}, {\"Unnamed: 0\": 253, \"datetime\": \"2017-08-27T01:08:45\", \"tweet_count\": 2.0564005120975093, \"team\": \"\\ud83d\\udcb8\\ud83e\\udd11\\ud83d\\udcb0\\ud83d\\udcb5\"}, {\"Unnamed: 0\": 254, \"datetime\": \"2017-08-27T01:09:00\", \"tweet_count\": 2.145726540759901, \"team\": \"\\ud83d\\udcb8\\ud83e\\udd11\\ud83d\\udcb0\\ud83d\\udcb5\"}, {\"Unnamed: 0\": 255, \"datetime\": \"2017-08-27T01:09:15\", \"tweet_count\": 2.1702601427922747, \"team\": \"\\ud83d\\udcb8\\ud83e\\udd11\\ud83d\\udcb0\\ud83d\\udcb5\"}, {\"Unnamed: 0\": 256, \"datetime\": \"2017-08-27T01:09:30\", \"tweet_count\": 2.1006005973956388, \"team\": \"\\ud83d\\udcb8\\ud83e\\udd11\\ud83d\\udcb0\\ud83d\\udcb5\"}, {\"Unnamed: 0\": 257, \"datetime\": \"2017-08-27T01:09:45\", \"tweet_count\": 2.1943024830243383, \"team\": \"\\ud83d\\udcb8\\ud83e\\udd11\\ud83d\\udcb0\\ud83d\\udcb5\"}, {\"Unnamed: 0\": 258, \"datetime\": \"2017-08-27T01:10:00\", \"tweet_count\": 2.177521252666038, \"team\": \"\\ud83d\\udcb8\\ud83e\\udd11\\ud83d\\udcb0\\ud83d\\udcb5\"}, {\"Unnamed: 0\": 259, \"datetime\": \"2017-08-27T01:10:15\", \"tweet_count\": 2.1501248179873307, \"team\": \"\\ud83d\\udcb8\\ud83e\\udd11\\ud83d\\udcb0\\ud83d\\udcb5\"}, {\"Unnamed: 0\": 260, \"datetime\": \"2017-08-27T01:10:30\", \"tweet_count\": 2.158088713139357, \"team\": \"\\ud83d\\udcb8\\ud83e\\udd11\\ud83d\\udcb0\\ud83d\\udcb5\"}, {\"Unnamed: 0\": 261, \"datetime\": \"2017-08-27T01:10:45\", \"tweet_count\": 2.210737777905361, \"team\": \"\\ud83d\\udcb8\\ud83e\\udd11\\ud83d\\udcb0\\ud83d\\udcb5\"}, {\"Unnamed: 0\": 262, \"datetime\": \"2017-08-27T01:11:00\", \"tweet_count\": 2.176093218802796, \"team\": \"\\ud83d\\udcb8\\ud83e\\udd11\\ud83d\\udcb0\\ud83d\\udcb5\"}, {\"Unnamed: 0\": 263, \"datetime\": \"2017-08-27T01:11:15\", \"tweet_count\": 2.1163981311257944, \"team\": \"\\ud83d\\udcb8\\ud83e\\udd11\\ud83d\\udcb0\\ud83d\\udcb5\"}, {\"Unnamed: 0\": 264, \"datetime\": \"2017-08-27T01:11:30\", \"tweet_count\": 2.1905364177758218, \"team\": \"\\ud83d\\udcb8\\ud83e\\udd11\\ud83d\\udcb0\\ud83d\\udcb5\"}, {\"Unnamed: 0\": 265, \"datetime\": \"2017-08-27T01:11:45\", \"tweet_count\": 1.128778386014679, \"team\": \"\\ud83d\\udcb8\\ud83e\\udd11\\ud83d\\udcb0\\ud83d\\udcb5\"}, {\"Unnamed: 0\": 266, \"datetime\": \"2017-08-27T01:12:00\", \"tweet_count\": 1.135633365233322, \"team\": \"\\ud83d\\udcb8\\ud83e\\udd11\\ud83d\\udcb0\\ud83d\\udcb5\"}, {\"Unnamed: 0\": 267, \"datetime\": \"2017-08-27T01:12:15\", \"tweet_count\": null, \"team\": \"\\ud83d\\udcb8\\ud83e\\udd11\\ud83d\\udcb0\\ud83d\\udcb5\"}, {\"Unnamed: 0\": 268, \"datetime\": \"2017-08-27T01:12:30\", \"tweet_count\": 1.1813147868647689, \"team\": \"\\ud83d\\udcb8\\ud83e\\udd11\\ud83d\\udcb0\\ud83d\\udcb5\"}, {\"Unnamed: 0\": 269, \"datetime\": \"2017-08-27T01:12:45\", \"tweet_count\": 1.1846574394303688, \"team\": \"\\ud83d\\udcb8\\ud83e\\udd11\\ud83d\\udcb0\\ud83d\\udcb5\"}, {\"Unnamed: 0\": 270, \"datetime\": \"2017-08-27T01:13:00\", \"tweet_count\": 1.1270474507988923, \"team\": \"\\ud83d\\udcb8\\ud83e\\udd11\\ud83d\\udcb0\\ud83d\\udcb5\"}, {\"Unnamed: 0\": 271, \"datetime\": \"2017-08-27T01:13:15\", \"tweet_count\": 0.9046662002497, \"team\": \"\\ud83d\\udcb8\\ud83e\\udd11\\ud83d\\udcb0\\ud83d\\udcb5\"}, {\"Unnamed: 0\": 272, \"datetime\": \"2017-08-27T01:13:30\", \"tweet_count\": 1.0366135900982727, \"team\": \"\\ud83d\\udcb8\\ud83e\\udd11\\ud83d\\udcb0\\ud83d\\udcb5\"}, {\"Unnamed: 0\": 273, \"datetime\": \"2017-08-27T01:13:45\", \"tweet_count\": 0.9883712681095258, \"team\": \"\\ud83d\\udcb8\\ud83e\\udd11\\ud83d\\udcb0\\ud83d\\udcb5\"}, {\"Unnamed: 0\": 274, \"datetime\": \"2017-08-27T01:14:00\", \"tweet_count\": 0.9549357448000426, \"team\": \"\\ud83d\\udcb8\\ud83e\\udd11\\ud83d\\udcb0\\ud83d\\udcb5\"}, {\"Unnamed: 0\": 275, \"datetime\": \"2017-08-27T01:14:15\", \"tweet_count\": 1.0067451347922285, \"team\": \"\\ud83d\\udcb8\\ud83e\\udd11\\ud83d\\udcb0\\ud83d\\udcb5\"}, {\"Unnamed: 0\": 276, \"datetime\": \"2017-08-27T01:14:30\", \"tweet_count\": 0.992523403039147, \"team\": \"\\ud83d\\udcb8\\ud83e\\udd11\\ud83d\\udcb0\\ud83d\\udcb5\"}, {\"Unnamed: 0\": 277, \"datetime\": \"2017-08-27T01:14:45\", \"tweet_count\": 0.9707329902127232, \"team\": \"\\ud83d\\udcb8\\ud83e\\udd11\\ud83d\\udcb0\\ud83d\\udcb5\"}, {\"Unnamed: 0\": 0, \"datetime\": \"2017-08-27T00:05:30\", \"tweet_count\": 5.031849259262732, \"team\": \"\\u2618\\ufe0f\\ud83c\\udf40\\ud83c\\uddee\\ud83c\\uddea\"}, {\"Unnamed: 0\": 1, \"datetime\": \"2017-08-27T00:05:45\", \"tweet_count\": 3.3085912678159133, \"team\": \"\\u2618\\ufe0f\\ud83c\\udf40\\ud83c\\uddee\\ud83c\\uddea\"}, {\"Unnamed: 0\": 2, \"datetime\": \"2017-08-27T00:06:00\", \"tweet_count\": 2.7584893930977428, \"team\": \"\\u2618\\ufe0f\\ud83c\\udf40\\ud83c\\uddee\\ud83c\\uddea\"}, {\"Unnamed: 0\": 3, \"datetime\": \"2017-08-27T00:06:15\", \"tweet_count\": 2.2813144473137323, \"team\": \"\\u2618\\ufe0f\\ud83c\\udf40\\ud83c\\uddee\\ud83c\\uddea\"}, {\"Unnamed: 0\": 4, \"datetime\": \"2017-08-27T00:06:30\", \"tweet_count\": 2.1390827511914754, \"team\": \"\\u2618\\ufe0f\\ud83c\\udf40\\ud83c\\uddee\\ud83c\\uddea\"}, {\"Unnamed: 0\": 5, \"datetime\": \"2017-08-27T00:06:45\", \"tweet_count\": 2.0351024807250027, \"team\": \"\\u2618\\ufe0f\\ud83c\\udf40\\ud83c\\uddee\\ud83c\\uddea\"}, {\"Unnamed: 0\": 6, \"datetime\": \"2017-08-27T00:07:00\", \"tweet_count\": 1.7895834578994119, \"team\": \"\\u2618\\ufe0f\\ud83c\\udf40\\ud83c\\uddee\\ud83c\\uddea\"}, {\"Unnamed: 0\": 7, \"datetime\": \"2017-08-27T00:07:15\", \"tweet_count\": 1.6846958542923975, \"team\": \"\\u2618\\ufe0f\\ud83c\\udf40\\ud83c\\uddee\\ud83c\\uddea\"}, {\"Unnamed: 0\": 8, \"datetime\": \"2017-08-27T00:07:30\", \"tweet_count\": 1.6063849249951918, \"team\": \"\\u2618\\ufe0f\\ud83c\\udf40\\ud83c\\uddee\\ud83c\\uddea\"}, {\"Unnamed: 0\": 9, \"datetime\": \"2017-08-27T00:07:45\", \"tweet_count\": 1.5134548102283831, \"team\": \"\\u2618\\ufe0f\\ud83c\\udf40\\ud83c\\uddee\\ud83c\\uddea\"}, {\"Unnamed: 0\": 10, \"datetime\": \"2017-08-27T00:08:00\", \"tweet_count\": 1.4453989175871755, \"team\": \"\\u2618\\ufe0f\\ud83c\\udf40\\ud83c\\uddee\\ud83c\\uddea\"}, {\"Unnamed: 0\": 11, \"datetime\": \"2017-08-27T00:08:15\", \"tweet_count\": 1.3708720642504484, \"team\": \"\\u2618\\ufe0f\\ud83c\\udf40\\ud83c\\uddee\\ud83c\\uddea\"}, {\"Unnamed: 0\": 12, \"datetime\": \"2017-08-27T00:08:30\", \"tweet_count\": 1.2835207102921578, \"team\": \"\\u2618\\ufe0f\\ud83c\\udf40\\ud83c\\uddee\\ud83c\\uddea\"}, {\"Unnamed: 0\": 13, \"datetime\": \"2017-08-27T00:08:45\", \"tweet_count\": 1.3449190942180922, \"team\": \"\\u2618\\ufe0f\\ud83c\\udf40\\ud83c\\uddee\\ud83c\\uddea\"}, {\"Unnamed: 0\": 14, \"datetime\": \"2017-08-27T00:09:00\", \"tweet_count\": 1.314537827558588, \"team\": \"\\u2618\\ufe0f\\ud83c\\udf40\\ud83c\\uddee\\ud83c\\uddea\"}, {\"Unnamed: 0\": 15, \"datetime\": \"2017-08-27T00:09:15\", \"tweet_count\": 1.3123109029846778, \"team\": \"\\u2618\\ufe0f\\ud83c\\udf40\\ud83c\\uddee\\ud83c\\uddea\"}, {\"Unnamed: 0\": 16, \"datetime\": \"2017-08-27T00:09:30\", \"tweet_count\": 1.308605151334982, \"team\": \"\\u2618\\ufe0f\\ud83c\\udf40\\ud83c\\uddee\\ud83c\\uddea\"}, {\"Unnamed: 0\": 17, \"datetime\": \"2017-08-27T00:09:45\", \"tweet_count\": 1.5318574289534852, \"team\": \"\\u2618\\ufe0f\\ud83c\\udf40\\ud83c\\uddee\\ud83c\\uddea\"}, {\"Unnamed: 0\": 18, \"datetime\": \"2017-08-27T00:10:00\", \"tweet_count\": 1.475729132514244, \"team\": \"\\u2618\\ufe0f\\ud83c\\udf40\\ud83c\\uddee\\ud83c\\uddea\"}, {\"Unnamed: 0\": 19, \"datetime\": \"2017-08-27T00:10:15\", \"tweet_count\": 1.6261856872220701, \"team\": \"\\u2618\\ufe0f\\ud83c\\udf40\\ud83c\\uddee\\ud83c\\uddea\"}, {\"Unnamed: 0\": 20, \"datetime\": \"2017-08-27T00:10:30\", \"tweet_count\": 1.5845973836484424, \"team\": \"\\u2618\\ufe0f\\ud83c\\udf40\\ud83c\\uddee\\ud83c\\uddea\"}, {\"Unnamed: 0\": 21, \"datetime\": \"2017-08-27T00:10:45\", \"tweet_count\": 1.5534049630043043, \"team\": \"\\u2618\\ufe0f\\ud83c\\udf40\\ud83c\\uddee\\ud83c\\uddea\"}, {\"Unnamed: 0\": 22, \"datetime\": \"2017-08-27T00:11:00\", \"tweet_count\": 1.6045341485003246, \"team\": \"\\u2618\\ufe0f\\ud83c\\udf40\\ud83c\\uddee\\ud83c\\uddea\"}, {\"Unnamed: 0\": 23, \"datetime\": \"2017-08-27T00:11:15\", \"tweet_count\": 1.6196682950064876, \"team\": \"\\u2618\\ufe0f\\ud83c\\udf40\\ud83c\\uddee\\ud83c\\uddea\"}, {\"Unnamed: 0\": 24, \"datetime\": \"2017-08-27T00:11:30\", \"tweet_count\": 1.6320154465999588, \"team\": \"\\u2618\\ufe0f\\ud83c\\udf40\\ud83c\\uddee\\ud83c\\uddea\"}, {\"Unnamed: 0\": 25, \"datetime\": \"2017-08-27T00:11:45\", \"tweet_count\": 1.735974775899186, \"team\": \"\\u2618\\ufe0f\\ud83c\\udf40\\ud83c\\uddee\\ud83c\\uddea\"}, {\"Unnamed: 0\": 26, \"datetime\": \"2017-08-27T00:12:00\", \"tweet_count\": 1.7586798464868958, \"team\": \"\\u2618\\ufe0f\\ud83c\\udf40\\ud83c\\uddee\\ud83c\\uddea\"}, {\"Unnamed: 0\": 27, \"datetime\": \"2017-08-27T00:12:15\", \"tweet_count\": 1.9995541414437, \"team\": \"\\u2618\\ufe0f\\ud83c\\udf40\\ud83c\\uddee\\ud83c\\uddea\"}, {\"Unnamed: 0\": 28, \"datetime\": \"2017-08-27T00:12:30\", \"tweet_count\": 2.072740920914433, \"team\": \"\\u2618\\ufe0f\\ud83c\\udf40\\ud83c\\uddee\\ud83c\\uddea\"}, {\"Unnamed: 0\": 29, \"datetime\": \"2017-08-27T00:12:45\", \"tweet_count\": 2.0175831375495763, \"team\": \"\\u2618\\ufe0f\\ud83c\\udf40\\ud83c\\uddee\\ud83c\\uddea\"}, {\"Unnamed: 0\": 30, \"datetime\": \"2017-08-27T00:13:00\", \"tweet_count\": 1.9963143066634483, \"team\": \"\\u2618\\ufe0f\\ud83c\\udf40\\ud83c\\uddee\\ud83c\\uddea\"}, {\"Unnamed: 0\": 31, \"datetime\": \"2017-08-27T00:13:15\", \"tweet_count\": 2.072257668041573, \"team\": \"\\u2618\\ufe0f\\ud83c\\udf40\\ud83c\\uddee\\ud83c\\uddea\"}, {\"Unnamed: 0\": 32, \"datetime\": \"2017-08-27T00:13:30\", \"tweet_count\": 2.0465812886252084, \"team\": \"\\u2618\\ufe0f\\ud83c\\udf40\\ud83c\\uddee\\ud83c\\uddea\"}, {\"Unnamed: 0\": 33, \"datetime\": \"2017-08-27T00:13:45\", \"tweet_count\": 1.6652074530041403, \"team\": \"\\u2618\\ufe0f\\ud83c\\udf40\\ud83c\\uddee\\ud83c\\uddea\"}, {\"Unnamed: 0\": 34, \"datetime\": \"2017-08-27T00:14:00\", \"tweet_count\": 1.6488389162585826, \"team\": \"\\u2618\\ufe0f\\ud83c\\udf40\\ud83c\\uddee\\ud83c\\uddea\"}, {\"Unnamed: 0\": 35, \"datetime\": \"2017-08-27T00:14:15\", \"tweet_count\": 1.4428666241551669, \"team\": \"\\u2618\\ufe0f\\ud83c\\udf40\\ud83c\\uddee\\ud83c\\uddea\"}, {\"Unnamed: 0\": 36, \"datetime\": \"2017-08-27T00:14:30\", \"tweet_count\": 1.4622602760478378, \"team\": \"\\u2618\\ufe0f\\ud83c\\udf40\\ud83c\\uddee\\ud83c\\uddea\"}, {\"Unnamed: 0\": 37, \"datetime\": \"2017-08-27T00:14:45\", \"tweet_count\": 1.6253234756215655, \"team\": \"\\u2618\\ufe0f\\ud83c\\udf40\\ud83c\\uddee\\ud83c\\uddea\"}, {\"Unnamed: 0\": 38, \"datetime\": \"2017-08-27T00:15:00\", \"tweet_count\": 1.6908124878356197, \"team\": \"\\u2618\\ufe0f\\ud83c\\udf40\\ud83c\\uddee\\ud83c\\uddea\"}, {\"Unnamed: 0\": 39, \"datetime\": \"2017-08-27T00:15:15\", \"tweet_count\": 1.6861728391381123, \"team\": \"\\u2618\\ufe0f\\ud83c\\udf40\\ud83c\\uddee\\ud83c\\uddea\"}, {\"Unnamed: 0\": 40, \"datetime\": \"2017-08-27T00:15:30\", \"tweet_count\": 1.720260954091461, \"team\": \"\\u2618\\ufe0f\\ud83c\\udf40\\ud83c\\uddee\\ud83c\\uddea\"}, {\"Unnamed: 0\": 41, \"datetime\": \"2017-08-27T00:15:45\", \"tweet_count\": 1.6313959651471683, \"team\": \"\\u2618\\ufe0f\\ud83c\\udf40\\ud83c\\uddee\\ud83c\\uddea\"}, {\"Unnamed: 0\": 42, \"datetime\": \"2017-08-27T00:16:00\", \"tweet_count\": 1.6016426149567342, \"team\": \"\\u2618\\ufe0f\\ud83c\\udf40\\ud83c\\uddee\\ud83c\\uddea\"}, {\"Unnamed: 0\": 43, \"datetime\": \"2017-08-27T00:16:15\", \"tweet_count\": 1.4313593187594655, \"team\": \"\\u2618\\ufe0f\\ud83c\\udf40\\ud83c\\uddee\\ud83c\\uddea\"}, {\"Unnamed: 0\": 44, \"datetime\": \"2017-08-27T00:16:30\", \"tweet_count\": 1.3743694621806801, \"team\": \"\\u2618\\ufe0f\\ud83c\\udf40\\ud83c\\uddee\\ud83c\\uddea\"}, {\"Unnamed: 0\": 45, \"datetime\": \"2017-08-27T00:16:45\", \"tweet_count\": 1.455124298660011, \"team\": \"\\u2618\\ufe0f\\ud83c\\udf40\\ud83c\\uddee\\ud83c\\uddea\"}, {\"Unnamed: 0\": 46, \"datetime\": \"2017-08-27T00:17:00\", \"tweet_count\": 1.4582026627332725, \"team\": \"\\u2618\\ufe0f\\ud83c\\udf40\\ud83c\\uddee\\ud83c\\uddea\"}, {\"Unnamed: 0\": 47, \"datetime\": \"2017-08-27T00:17:15\", \"tweet_count\": 1.3562917044896832, \"team\": \"\\u2618\\ufe0f\\ud83c\\udf40\\ud83c\\uddee\\ud83c\\uddea\"}, {\"Unnamed: 0\": 48, \"datetime\": \"2017-08-27T00:17:30\", \"tweet_count\": 1.1981536628267246, \"team\": \"\\u2618\\ufe0f\\ud83c\\udf40\\ud83c\\uddee\\ud83c\\uddea\"}, {\"Unnamed: 0\": 49, \"datetime\": \"2017-08-27T00:17:45\", \"tweet_count\": 1.1727402550877868, \"team\": \"\\u2618\\ufe0f\\ud83c\\udf40\\ud83c\\uddee\\ud83c\\uddea\"}, {\"Unnamed: 0\": 50, \"datetime\": \"2017-08-27T00:18:00\", \"tweet_count\": 1.1767071510303864, \"team\": \"\\u2618\\ufe0f\\ud83c\\udf40\\ud83c\\uddee\\ud83c\\uddea\"}, {\"Unnamed: 0\": 51, \"datetime\": \"2017-08-27T00:18:15\", \"tweet_count\": 1.1610434638750742, \"team\": \"\\u2618\\ufe0f\\ud83c\\udf40\\ud83c\\uddee\\ud83c\\uddea\"}, {\"Unnamed: 0\": 52, \"datetime\": \"2017-08-27T00:18:30\", \"tweet_count\": 1.1165694789226954, \"team\": \"\\u2618\\ufe0f\\ud83c\\udf40\\ud83c\\uddee\\ud83c\\uddea\"}, {\"Unnamed: 0\": 53, \"datetime\": \"2017-08-27T00:18:45\", \"tweet_count\": 0.9886445707010656, \"team\": \"\\u2618\\ufe0f\\ud83c\\udf40\\ud83c\\uddee\\ud83c\\uddea\"}, {\"Unnamed: 0\": 54, \"datetime\": \"2017-08-27T00:19:00\", \"tweet_count\": 1.0658988636513418, \"team\": \"\\u2618\\ufe0f\\ud83c\\udf40\\ud83c\\uddee\\ud83c\\uddea\"}, {\"Unnamed: 0\": 55, \"datetime\": \"2017-08-27T00:19:15\", \"tweet_count\": 1.0828478820128469, \"team\": \"\\u2618\\ufe0f\\ud83c\\udf40\\ud83c\\uddee\\ud83c\\uddea\"}, {\"Unnamed: 0\": 56, \"datetime\": \"2017-08-27T00:19:30\", \"tweet_count\": 1.0385834870107329, \"team\": \"\\u2618\\ufe0f\\ud83c\\udf40\\ud83c\\uddee\\ud83c\\uddea\"}, {\"Unnamed: 0\": 57, \"datetime\": \"2017-08-27T00:19:45\", \"tweet_count\": 1.0558587215096562, \"team\": \"\\u2618\\ufe0f\\ud83c\\udf40\\ud83c\\uddee\\ud83c\\uddea\"}, {\"Unnamed: 0\": 58, \"datetime\": \"2017-08-27T00:20:00\", \"tweet_count\": 1.1771636326521626, \"team\": \"\\u2618\\ufe0f\\ud83c\\udf40\\ud83c\\uddee\\ud83c\\uddea\"}, {\"Unnamed: 0\": 59, \"datetime\": \"2017-08-27T00:20:15\", \"tweet_count\": 1.237008251433501, \"team\": \"\\u2618\\ufe0f\\ud83c\\udf40\\ud83c\\uddee\\ud83c\\uddea\"}, {\"Unnamed: 0\": 60, \"datetime\": \"2017-08-27T00:20:30\", \"tweet_count\": 1.2076283425242504, \"team\": \"\\u2618\\ufe0f\\ud83c\\udf40\\ud83c\\uddee\\ud83c\\uddea\"}, {\"Unnamed: 0\": 61, \"datetime\": \"2017-08-27T00:20:45\", \"tweet_count\": 1.181031187318102, \"team\": \"\\u2618\\ufe0f\\ud83c\\udf40\\ud83c\\uddee\\ud83c\\uddea\"}, {\"Unnamed: 0\": 62, \"datetime\": \"2017-08-27T00:21:00\", \"tweet_count\": 1.2424795319703856, \"team\": \"\\u2618\\ufe0f\\ud83c\\udf40\\ud83c\\uddee\\ud83c\\uddea\"}, {\"Unnamed: 0\": 63, \"datetime\": \"2017-08-27T00:21:15\", \"tweet_count\": 1.25355475884545, \"team\": \"\\u2618\\ufe0f\\ud83c\\udf40\\ud83c\\uddee\\ud83c\\uddea\"}, {\"Unnamed: 0\": 64, \"datetime\": \"2017-08-27T00:21:30\", \"tweet_count\": 1.2283023586705648, \"team\": \"\\u2618\\ufe0f\\ud83c\\udf40\\ud83c\\uddee\\ud83c\\uddea\"}, {\"Unnamed: 0\": 65, \"datetime\": \"2017-08-27T00:21:45\", \"tweet_count\": 1.221497995054262, \"team\": \"\\u2618\\ufe0f\\ud83c\\udf40\\ud83c\\uddee\\ud83c\\uddea\"}, {\"Unnamed: 0\": 66, \"datetime\": \"2017-08-27T00:22:00\", \"tweet_count\": 1.3061252196606576, \"team\": \"\\u2618\\ufe0f\\ud83c\\udf40\\ud83c\\uddee\\ud83c\\uddea\"}, {\"Unnamed: 0\": 67, \"datetime\": \"2017-08-27T00:22:15\", \"tweet_count\": 1.33632515434287, \"team\": \"\\u2618\\ufe0f\\ud83c\\udf40\\ud83c\\uddee\\ud83c\\uddea\"}, {\"Unnamed: 0\": 68, \"datetime\": \"2017-08-27T00:22:30\", \"tweet_count\": 1.4284177955714092, \"team\": \"\\u2618\\ufe0f\\ud83c\\udf40\\ud83c\\uddee\\ud83c\\uddea\"}, {\"Unnamed: 0\": 69, \"datetime\": \"2017-08-27T00:22:45\", \"tweet_count\": 1.3203764246438148, \"team\": \"\\u2618\\ufe0f\\ud83c\\udf40\\ud83c\\uddee\\ud83c\\uddea\"}, {\"Unnamed: 0\": 70, \"datetime\": \"2017-08-27T00:23:00\", \"tweet_count\": 1.1698013719489218, \"team\": \"\\u2618\\ufe0f\\ud83c\\udf40\\ud83c\\uddee\\ud83c\\uddea\"}, {\"Unnamed: 0\": 71, \"datetime\": \"2017-08-27T00:23:15\", \"tweet_count\": 1.16574395693293, \"team\": \"\\u2618\\ufe0f\\ud83c\\udf40\\ud83c\\uddee\\ud83c\\uddea\"}, {\"Unnamed: 0\": 72, \"datetime\": \"2017-08-27T00:23:30\", \"tweet_count\": 1.204280450759701, \"team\": \"\\u2618\\ufe0f\\ud83c\\udf40\\ud83c\\uddee\\ud83c\\uddea\"}, {\"Unnamed: 0\": 73, \"datetime\": \"2017-08-27T00:23:45\", \"tweet_count\": 1.1797359823100448, \"team\": \"\\u2618\\ufe0f\\ud83c\\udf40\\ud83c\\uddee\\ud83c\\uddea\"}, {\"Unnamed: 0\": 74, \"datetime\": \"2017-08-27T00:24:00\", \"tweet_count\": 1.043901516051505, \"team\": \"\\u2618\\ufe0f\\ud83c\\udf40\\ud83c\\uddee\\ud83c\\uddea\"}, {\"Unnamed: 0\": 75, \"datetime\": \"2017-08-27T00:24:15\", \"tweet_count\": 0.9516769021549776, \"team\": \"\\u2618\\ufe0f\\ud83c\\udf40\\ud83c\\uddee\\ud83c\\uddea\"}, {\"Unnamed: 0\": 76, \"datetime\": \"2017-08-27T00:24:30\", \"tweet_count\": 0.9311877204908012, \"team\": \"\\u2618\\ufe0f\\ud83c\\udf40\\ud83c\\uddee\\ud83c\\uddea\"}, {\"Unnamed: 0\": 77, \"datetime\": \"2017-08-27T00:24:45\", \"tweet_count\": 0.822426359215197, \"team\": \"\\u2618\\ufe0f\\ud83c\\udf40\\ud83c\\uddee\\ud83c\\uddea\"}, {\"Unnamed: 0\": 78, \"datetime\": \"2017-08-27T00:25:00\", \"tweet_count\": 0.7608323576887364, \"team\": \"\\u2618\\ufe0f\\ud83c\\udf40\\ud83c\\uddee\\ud83c\\uddea\"}, {\"Unnamed: 0\": 79, \"datetime\": \"2017-08-27T00:25:15\", \"tweet_count\": 0.7687297173271632, \"team\": \"\\u2618\\ufe0f\\ud83c\\udf40\\ud83c\\uddee\\ud83c\\uddea\"}, {\"Unnamed: 0\": 80, \"datetime\": \"2017-08-27T00:25:30\", \"tweet_count\": 0.8369654262369943, \"team\": \"\\u2618\\ufe0f\\ud83c\\udf40\\ud83c\\uddee\\ud83c\\uddea\"}, {\"Unnamed: 0\": 81, \"datetime\": \"2017-08-27T00:25:45\", \"tweet_count\": 0.8667594181549361, \"team\": \"\\u2618\\ufe0f\\ud83c\\udf40\\ud83c\\uddee\\ud83c\\uddea\"}, {\"Unnamed: 0\": 82, \"datetime\": \"2017-08-27T00:26:00\", \"tweet_count\": 0.7839361326344647, \"team\": \"\\u2618\\ufe0f\\ud83c\\udf40\\ud83c\\uddee\\ud83c\\uddea\"}, {\"Unnamed: 0\": 83, \"datetime\": \"2017-08-27T00:26:15\", \"tweet_count\": 0.7359182974528808, \"team\": \"\\u2618\\ufe0f\\ud83c\\udf40\\ud83c\\uddee\\ud83c\\uddea\"}, {\"Unnamed: 0\": 84, \"datetime\": \"2017-08-27T00:26:30\", \"tweet_count\": 0.6876141133720113, \"team\": \"\\u2618\\ufe0f\\ud83c\\udf40\\ud83c\\uddee\\ud83c\\uddea\"}, {\"Unnamed: 0\": 85, \"datetime\": \"2017-08-27T00:26:45\", \"tweet_count\": 0.7861825595108614, \"team\": \"\\u2618\\ufe0f\\ud83c\\udf40\\ud83c\\uddee\\ud83c\\uddea\"}, {\"Unnamed: 0\": 86, \"datetime\": \"2017-08-27T00:27:00\", \"tweet_count\": 0.8701046882591184, \"team\": \"\\u2618\\ufe0f\\ud83c\\udf40\\ud83c\\uddee\\ud83c\\uddea\"}, {\"Unnamed: 0\": 87, \"datetime\": \"2017-08-27T00:27:15\", \"tweet_count\": 0.8390202002057641, \"team\": \"\\u2618\\ufe0f\\ud83c\\udf40\\ud83c\\uddee\\ud83c\\uddea\"}, {\"Unnamed: 0\": 88, \"datetime\": \"2017-08-27T00:27:30\", \"tweet_count\": 0.8070629013928959, \"team\": \"\\u2618\\ufe0f\\ud83c\\udf40\\ud83c\\uddee\\ud83c\\uddea\"}, {\"Unnamed: 0\": 89, \"datetime\": \"2017-08-27T00:27:45\", \"tweet_count\": 0.8158048189116593, \"team\": \"\\u2618\\ufe0f\\ud83c\\udf40\\ud83c\\uddee\\ud83c\\uddea\"}, {\"Unnamed: 0\": 90, \"datetime\": \"2017-08-27T00:28:00\", \"tweet_count\": 0.8016820761212767, \"team\": \"\\u2618\\ufe0f\\ud83c\\udf40\\ud83c\\uddee\\ud83c\\uddea\"}, {\"Unnamed: 0\": 91, \"datetime\": \"2017-08-27T00:28:15\", \"tweet_count\": 0.8050330904234236, \"team\": \"\\u2618\\ufe0f\\ud83c\\udf40\\ud83c\\uddee\\ud83c\\uddea\"}, {\"Unnamed: 0\": 92, \"datetime\": \"2017-08-27T00:28:30\", \"tweet_count\": 0.8155187444511793, \"team\": \"\\u2618\\ufe0f\\ud83c\\udf40\\ud83c\\uddee\\ud83c\\uddea\"}, {\"Unnamed: 0\": 93, \"datetime\": \"2017-08-27T00:28:45\", \"tweet_count\": 0.8032778173710126, \"team\": \"\\u2618\\ufe0f\\ud83c\\udf40\\ud83c\\uddee\\ud83c\\uddea\"}, {\"Unnamed: 0\": 94, \"datetime\": \"2017-08-27T00:29:00\", \"tweet_count\": 0.8771812999572419, \"team\": \"\\u2618\\ufe0f\\ud83c\\udf40\\ud83c\\uddee\\ud83c\\uddea\"}, {\"Unnamed: 0\": 95, \"datetime\": \"2017-08-27T00:29:15\", \"tweet_count\": 0.9407769708295588, \"team\": \"\\u2618\\ufe0f\\ud83c\\udf40\\ud83c\\uddee\\ud83c\\uddea\"}, {\"Unnamed: 0\": 96, \"datetime\": \"2017-08-27T00:29:30\", \"tweet_count\": 1.6065194650079424, \"team\": \"\\u2618\\ufe0f\\ud83c\\udf40\\ud83c\\uddee\\ud83c\\uddea\"}, {\"Unnamed: 0\": 97, \"datetime\": \"2017-08-27T00:29:45\", \"tweet_count\": 1.5601894404418633, \"team\": \"\\u2618\\ufe0f\\ud83c\\udf40\\ud83c\\uddee\\ud83c\\uddea\"}, {\"Unnamed: 0\": 98, \"datetime\": \"2017-08-27T00:30:00\", \"tweet_count\": 1.5507436943666952, \"team\": \"\\u2618\\ufe0f\\ud83c\\udf40\\ud83c\\uddee\\ud83c\\uddea\"}, {\"Unnamed: 0\": 99, \"datetime\": \"2017-08-27T00:30:15\", \"tweet_count\": 1.5274979373560085, \"team\": \"\\u2618\\ufe0f\\ud83c\\udf40\\ud83c\\uddee\\ud83c\\uddea\"}, {\"Unnamed: 0\": 100, \"datetime\": \"2017-08-27T00:30:30\", \"tweet_count\": 1.513833873046062, \"team\": \"\\u2618\\ufe0f\\ud83c\\udf40\\ud83c\\uddee\\ud83c\\uddea\"}, {\"Unnamed: 0\": 101, \"datetime\": \"2017-08-27T00:30:45\", \"tweet_count\": 1.4254026551690435, \"team\": \"\\u2618\\ufe0f\\ud83c\\udf40\\ud83c\\uddee\\ud83c\\uddea\"}, {\"Unnamed: 0\": 102, \"datetime\": \"2017-08-27T00:31:00\", \"tweet_count\": 1.3722312925804272, \"team\": \"\\u2618\\ufe0f\\ud83c\\udf40\\ud83c\\uddee\\ud83c\\uddea\"}, {\"Unnamed: 0\": 103, \"datetime\": \"2017-08-27T00:31:15\", \"tweet_count\": 1.386762300636872, \"team\": \"\\u2618\\ufe0f\\ud83c\\udf40\\ud83c\\uddee\\ud83c\\uddea\"}, {\"Unnamed: 0\": 104, \"datetime\": \"2017-08-27T00:31:30\", \"tweet_count\": 1.3778157521985763, \"team\": \"\\u2618\\ufe0f\\ud83c\\udf40\\ud83c\\uddee\\ud83c\\uddea\"}, {\"Unnamed: 0\": 105, \"datetime\": \"2017-08-27T00:31:45\", \"tweet_count\": 1.362203636949736, \"team\": \"\\u2618\\ufe0f\\ud83c\\udf40\\ud83c\\uddee\\ud83c\\uddea\"}, {\"Unnamed: 0\": 106, \"datetime\": \"2017-08-27T00:32:00\", \"tweet_count\": 1.3586619795722623, \"team\": \"\\u2618\\ufe0f\\ud83c\\udf40\\ud83c\\uddee\\ud83c\\uddea\"}, {\"Unnamed: 0\": 107, \"datetime\": \"2017-08-27T00:32:15\", \"tweet_count\": 1.380769235887782, \"team\": \"\\u2618\\ufe0f\\ud83c\\udf40\\ud83c\\uddee\\ud83c\\uddea\"}, {\"Unnamed: 0\": 108, \"datetime\": \"2017-08-27T00:32:30\", \"tweet_count\": 1.4060540926724343, \"team\": \"\\u2618\\ufe0f\\ud83c\\udf40\\ud83c\\uddee\\ud83c\\uddea\"}, {\"Unnamed: 0\": 109, \"datetime\": \"2017-08-27T00:32:45\", \"tweet_count\": 1.5411590785543527, \"team\": \"\\u2618\\ufe0f\\ud83c\\udf40\\ud83c\\uddee\\ud83c\\uddea\"}, {\"Unnamed: 0\": 110, \"datetime\": \"2017-08-27T00:33:00\", \"tweet_count\": 1.4434890672695142, \"team\": \"\\u2618\\ufe0f\\ud83c\\udf40\\ud83c\\uddee\\ud83c\\uddea\"}, {\"Unnamed: 0\": 111, \"datetime\": \"2017-08-27T00:33:15\", \"tweet_count\": 1.2543594410375132, \"team\": \"\\u2618\\ufe0f\\ud83c\\udf40\\ud83c\\uddee\\ud83c\\uddea\"}, {\"Unnamed: 0\": 112, \"datetime\": \"2017-08-27T00:33:30\", \"tweet_count\": 0.5804731844737738, \"team\": \"\\u2618\\ufe0f\\ud83c\\udf40\\ud83c\\uddee\\ud83c\\uddea\"}, {\"Unnamed: 0\": 113, \"datetime\": \"2017-08-27T00:33:45\", \"tweet_count\": 0.5490103210903037, \"team\": \"\\u2618\\ufe0f\\ud83c\\udf40\\ud83c\\uddee\\ud83c\\uddea\"}, {\"Unnamed: 0\": 114, \"datetime\": \"2017-08-27T00:34:00\", \"tweet_count\": 0.5355347731583469, \"team\": \"\\u2618\\ufe0f\\ud83c\\udf40\\ud83c\\uddee\\ud83c\\uddea\"}, {\"Unnamed: 0\": 115, \"datetime\": \"2017-08-27T00:34:15\", \"tweet_count\": 0.5408945030572211, \"team\": \"\\u2618\\ufe0f\\ud83c\\udf40\\ud83c\\uddee\\ud83c\\uddea\"}, {\"Unnamed: 0\": 116, \"datetime\": \"2017-08-27T00:34:30\", \"tweet_count\": 0.6163091774388991, \"team\": \"\\u2618\\ufe0f\\ud83c\\udf40\\ud83c\\uddee\\ud83c\\uddea\"}, {\"Unnamed: 0\": 117, \"datetime\": \"2017-08-27T00:34:45\", \"tweet_count\": 0.6267191949783613, \"team\": \"\\u2618\\ufe0f\\ud83c\\udf40\\ud83c\\uddee\\ud83c\\uddea\"}, {\"Unnamed: 0\": 118, \"datetime\": \"2017-08-27T00:35:00\", \"tweet_count\": 0.5509550892745199, \"team\": \"\\u2618\\ufe0f\\ud83c\\udf40\\ud83c\\uddee\\ud83c\\uddea\"}, {\"Unnamed: 0\": 119, \"datetime\": \"2017-08-27T00:35:15\", \"tweet_count\": 0.5193837135654645, \"team\": \"\\u2618\\ufe0f\\ud83c\\udf40\\ud83c\\uddee\\ud83c\\uddea\"}, {\"Unnamed: 0\": 120, \"datetime\": \"2017-08-27T00:35:30\", \"tweet_count\": 0.5046610753548094, \"team\": \"\\u2618\\ufe0f\\ud83c\\udf40\\ud83c\\uddee\\ud83c\\uddea\"}, {\"Unnamed: 0\": 121, \"datetime\": \"2017-08-27T00:35:45\", \"tweet_count\": 0.4801065334134677, \"team\": \"\\u2618\\ufe0f\\ud83c\\udf40\\ud83c\\uddee\\ud83c\\uddea\"}, {\"Unnamed: 0\": 122, \"datetime\": \"2017-08-27T00:36:00\", \"tweet_count\": 0.5003258194516667, \"team\": \"\\u2618\\ufe0f\\ud83c\\udf40\\ud83c\\uddee\\ud83c\\uddea\"}, {\"Unnamed: 0\": 123, \"datetime\": \"2017-08-27T00:36:15\", \"tweet_count\": 0.4811309914119445, \"team\": \"\\u2618\\ufe0f\\ud83c\\udf40\\ud83c\\uddee\\ud83c\\uddea\"}, {\"Unnamed: 0\": 124, \"datetime\": \"2017-08-27T00:36:30\", \"tweet_count\": 0.4576786499945242, \"team\": \"\\u2618\\ufe0f\\ud83c\\udf40\\ud83c\\uddee\\ud83c\\uddea\"}, {\"Unnamed: 0\": 125, \"datetime\": \"2017-08-27T00:36:45\", \"tweet_count\": 0.3457629370575822, \"team\": \"\\u2618\\ufe0f\\ud83c\\udf40\\ud83c\\uddee\\ud83c\\uddea\"}, {\"Unnamed: 0\": 126, \"datetime\": \"2017-08-27T00:37:00\", \"tweet_count\": 0.34718706120184634, \"team\": \"\\u2618\\ufe0f\\ud83c\\udf40\\ud83c\\uddee\\ud83c\\uddea\"}, {\"Unnamed: 0\": 127, \"datetime\": \"2017-08-27T00:37:15\", \"tweet_count\": 0.3619149606464492, \"team\": \"\\u2618\\ufe0f\\ud83c\\udf40\\ud83c\\uddee\\ud83c\\uddea\"}, {\"Unnamed: 0\": 128, \"datetime\": \"2017-08-27T00:37:30\", \"tweet_count\": 0.389623342103032, \"team\": \"\\u2618\\ufe0f\\ud83c\\udf40\\ud83c\\uddee\\ud83c\\uddea\"}, {\"Unnamed: 0\": 129, \"datetime\": \"2017-08-27T00:37:45\", \"tweet_count\": 0.3923898009508052, \"team\": \"\\u2618\\ufe0f\\ud83c\\udf40\\ud83c\\uddee\\ud83c\\uddea\"}, {\"Unnamed: 0\": 130, \"datetime\": \"2017-08-27T00:38:00\", \"tweet_count\": 0.3986612537313745, \"team\": \"\\u2618\\ufe0f\\ud83c\\udf40\\ud83c\\uddee\\ud83c\\uddea\"}, {\"Unnamed: 0\": 131, \"datetime\": \"2017-08-27T00:38:15\", \"tweet_count\": 0.4190738086724803, \"team\": \"\\u2618\\ufe0f\\ud83c\\udf40\\ud83c\\uddee\\ud83c\\uddea\"}, {\"Unnamed: 0\": 132, \"datetime\": \"2017-08-27T00:38:30\", \"tweet_count\": 0.3532399817622969, \"team\": \"\\u2618\\ufe0f\\ud83c\\udf40\\ud83c\\uddee\\ud83c\\uddea\"}, {\"Unnamed: 0\": 133, \"datetime\": \"2017-08-27T00:38:45\", \"tweet_count\": 0.31594004087178795, \"team\": \"\\u2618\\ufe0f\\ud83c\\udf40\\ud83c\\uddee\\ud83c\\uddea\"}, {\"Unnamed: 0\": 134, \"datetime\": \"2017-08-27T00:39:00\", \"tweet_count\": 0.3314160265763128, \"team\": \"\\u2618\\ufe0f\\ud83c\\udf40\\ud83c\\uddee\\ud83c\\uddea\"}, {\"Unnamed: 0\": 135, \"datetime\": \"2017-08-27T00:39:15\", \"tweet_count\": 0.3145030566737203, \"team\": \"\\u2618\\ufe0f\\ud83c\\udf40\\ud83c\\uddee\\ud83c\\uddea\"}, {\"Unnamed: 0\": 136, \"datetime\": \"2017-08-27T00:39:30\", \"tweet_count\": 0.3025898930139131, \"team\": \"\\u2618\\ufe0f\\ud83c\\udf40\\ud83c\\uddee\\ud83c\\uddea\"}, {\"Unnamed: 0\": 137, \"datetime\": \"2017-08-27T00:39:45\", \"tweet_count\": 0.34280191691385464, \"team\": \"\\u2618\\ufe0f\\ud83c\\udf40\\ud83c\\uddee\\ud83c\\uddea\"}, {\"Unnamed: 0\": 138, \"datetime\": \"2017-08-27T00:40:00\", \"tweet_count\": 0.3912954089644931, \"team\": \"\\u2618\\ufe0f\\ud83c\\udf40\\ud83c\\uddee\\ud83c\\uddea\"}, {\"Unnamed: 0\": 139, \"datetime\": \"2017-08-27T00:40:15\", \"tweet_count\": 0.3924096243682511, \"team\": \"\\u2618\\ufe0f\\ud83c\\udf40\\ud83c\\uddee\\ud83c\\uddea\"}, {\"Unnamed: 0\": 140, \"datetime\": \"2017-08-27T00:40:30\", \"tweet_count\": 0.3955088079059393, \"team\": \"\\u2618\\ufe0f\\ud83c\\udf40\\ud83c\\uddee\\ud83c\\uddea\"}, {\"Unnamed: 0\": 141, \"datetime\": \"2017-08-27T00:40:45\", \"tweet_count\": 0.4653277707331976, \"team\": \"\\u2618\\ufe0f\\ud83c\\udf40\\ud83c\\uddee\\ud83c\\uddea\"}, {\"Unnamed: 0\": 142, \"datetime\": \"2017-08-27T00:41:00\", \"tweet_count\": 0.4772756552306217, \"team\": \"\\u2618\\ufe0f\\ud83c\\udf40\\ud83c\\uddee\\ud83c\\uddea\"}, {\"Unnamed: 0\": 143, \"datetime\": \"2017-08-27T00:41:15\", \"tweet_count\": 0.4703807656961286, \"team\": \"\\u2618\\ufe0f\\ud83c\\udf40\\ud83c\\uddee\\ud83c\\uddea\"}, {\"Unnamed: 0\": 144, \"datetime\": \"2017-08-27T00:41:30\", \"tweet_count\": 0.4483060469063879, \"team\": \"\\u2618\\ufe0f\\ud83c\\udf40\\ud83c\\uddee\\ud83c\\uddea\"}, {\"Unnamed: 0\": 145, \"datetime\": \"2017-08-27T00:41:45\", \"tweet_count\": 0.4485075978250729, \"team\": \"\\u2618\\ufe0f\\ud83c\\udf40\\ud83c\\uddee\\ud83c\\uddea\"}, {\"Unnamed: 0\": 146, \"datetime\": \"2017-08-27T00:42:00\", \"tweet_count\": 0.4688523799106874, \"team\": \"\\u2618\\ufe0f\\ud83c\\udf40\\ud83c\\uddee\\ud83c\\uddea\"}, {\"Unnamed: 0\": 147, \"datetime\": \"2017-08-27T00:42:15\", \"tweet_count\": 0.4559588333430908, \"team\": \"\\u2618\\ufe0f\\ud83c\\udf40\\ud83c\\uddee\\ud83c\\uddea\"}, {\"Unnamed: 0\": 148, \"datetime\": \"2017-08-27T00:42:30\", \"tweet_count\": 0.4369313374558583, \"team\": \"\\u2618\\ufe0f\\ud83c\\udf40\\ud83c\\uddee\\ud83c\\uddea\"}, {\"Unnamed: 0\": 149, \"datetime\": \"2017-08-27T00:42:45\", \"tweet_count\": 0.5026504181270679, \"team\": \"\\u2618\\ufe0f\\ud83c\\udf40\\ud83c\\uddee\\ud83c\\uddea\"}, {\"Unnamed: 0\": 150, \"datetime\": \"2017-08-27T00:43:00\", \"tweet_count\": 0.4874253035927594, \"team\": \"\\u2618\\ufe0f\\ud83c\\udf40\\ud83c\\uddee\\ud83c\\uddea\"}, {\"Unnamed: 0\": 151, \"datetime\": \"2017-08-27T00:43:15\", \"tweet_count\": 0.4682327593434278, \"team\": \"\\u2618\\ufe0f\\ud83c\\udf40\\ud83c\\uddee\\ud83c\\uddea\"}, {\"Unnamed: 0\": 152, \"datetime\": \"2017-08-27T00:43:30\", \"tweet_count\": 0.4941319424186627, \"team\": \"\\u2618\\ufe0f\\ud83c\\udf40\\ud83c\\uddee\\ud83c\\uddea\"}, {\"Unnamed: 0\": 153, \"datetime\": \"2017-08-27T00:43:45\", \"tweet_count\": 0.4448955949762089, \"team\": \"\\u2618\\ufe0f\\ud83c\\udf40\\ud83c\\uddee\\ud83c\\uddea\"}, {\"Unnamed: 0\": 154, \"datetime\": \"2017-08-27T00:44:00\", \"tweet_count\": 0.3791737995839453, \"team\": \"\\u2618\\ufe0f\\ud83c\\udf40\\ud83c\\uddee\\ud83c\\uddea\"}, {\"Unnamed: 0\": 155, \"datetime\": \"2017-08-27T00:44:15\", \"tweet_count\": 0.3682052860173355, \"team\": \"\\u2618\\ufe0f\\ud83c\\udf40\\ud83c\\uddee\\ud83c\\uddea\"}, {\"Unnamed: 0\": 156, \"datetime\": \"2017-08-27T00:44:30\", \"tweet_count\": 0.3701688367716685, \"team\": \"\\u2618\\ufe0f\\ud83c\\udf40\\ud83c\\uddee\\ud83c\\uddea\"}, {\"Unnamed: 0\": 157, \"datetime\": \"2017-08-27T00:44:45\", \"tweet_count\": 0.3216349850229669, \"team\": \"\\u2618\\ufe0f\\ud83c\\udf40\\ud83c\\uddee\\ud83c\\uddea\"}, {\"Unnamed: 0\": 158, \"datetime\": \"2017-08-27T00:45:00\", \"tweet_count\": 0.30463108387924764, \"team\": \"\\u2618\\ufe0f\\ud83c\\udf40\\ud83c\\uddee\\ud83c\\uddea\"}, {\"Unnamed: 0\": 159, \"datetime\": \"2017-08-27T00:45:15\", \"tweet_count\": 0.3290280273539293, \"team\": \"\\u2618\\ufe0f\\ud83c\\udf40\\ud83c\\uddee\\ud83c\\uddea\"}, {\"Unnamed: 0\": 160, \"datetime\": \"2017-08-27T00:45:30\", \"tweet_count\": 0.3602924792123668, \"team\": \"\\u2618\\ufe0f\\ud83c\\udf40\\ud83c\\uddee\\ud83c\\uddea\"}, {\"Unnamed: 0\": 161, \"datetime\": \"2017-08-27T00:45:45\", \"tweet_count\": 0.3801128344076563, \"team\": \"\\u2618\\ufe0f\\ud83c\\udf40\\ud83c\\uddee\\ud83c\\uddea\"}, {\"Unnamed: 0\": 162, \"datetime\": \"2017-08-27T00:46:00\", \"tweet_count\": 0.3908951081059054, \"team\": \"\\u2618\\ufe0f\\ud83c\\udf40\\ud83c\\uddee\\ud83c\\uddea\"}, {\"Unnamed: 0\": 163, \"datetime\": \"2017-08-27T00:46:15\", \"tweet_count\": 0.3738877847459941, \"team\": \"\\u2618\\ufe0f\\ud83c\\udf40\\ud83c\\uddee\\ud83c\\uddea\"}, {\"Unnamed: 0\": 164, \"datetime\": \"2017-08-27T00:46:30\", \"tweet_count\": 0.37473803730753735, \"team\": \"\\u2618\\ufe0f\\ud83c\\udf40\\ud83c\\uddee\\ud83c\\uddea\"}, {\"Unnamed: 0\": 165, \"datetime\": \"2017-08-27T00:46:45\", \"tweet_count\": 0.33830781634893703, \"team\": \"\\u2618\\ufe0f\\ud83c\\udf40\\ud83c\\uddee\\ud83c\\uddea\"}, {\"Unnamed: 0\": 166, \"datetime\": \"2017-08-27T00:47:00\", \"tweet_count\": 0.35612268607623043, \"team\": \"\\u2618\\ufe0f\\ud83c\\udf40\\ud83c\\uddee\\ud83c\\uddea\"}, {\"Unnamed: 0\": 167, \"datetime\": \"2017-08-27T00:47:15\", \"tweet_count\": 0.36885827022107304, \"team\": \"\\u2618\\ufe0f\\ud83c\\udf40\\ud83c\\uddee\\ud83c\\uddea\"}, {\"Unnamed: 0\": 168, \"datetime\": \"2017-08-27T00:47:30\", \"tweet_count\": 0.3242846362348174, \"team\": \"\\u2618\\ufe0f\\ud83c\\udf40\\ud83c\\uddee\\ud83c\\uddea\"}, {\"Unnamed: 0\": 169, \"datetime\": \"2017-08-27T00:47:45\", \"tweet_count\": 0.3179646193778062, \"team\": \"\\u2618\\ufe0f\\ud83c\\udf40\\ud83c\\uddee\\ud83c\\uddea\"}, {\"Unnamed: 0\": 170, \"datetime\": \"2017-08-27T00:48:00\", \"tweet_count\": 0.3159012943209645, \"team\": \"\\u2618\\ufe0f\\ud83c\\udf40\\ud83c\\uddee\\ud83c\\uddea\"}, {\"Unnamed: 0\": 171, \"datetime\": \"2017-08-27T00:48:15\", \"tweet_count\": 0.31564722594074895, \"team\": \"\\u2618\\ufe0f\\ud83c\\udf40\\ud83c\\uddee\\ud83c\\uddea\"}, {\"Unnamed: 0\": 172, \"datetime\": \"2017-08-27T00:48:30\", \"tweet_count\": 0.329228856267646, \"team\": \"\\u2618\\ufe0f\\ud83c\\udf40\\ud83c\\uddee\\ud83c\\uddea\"}, {\"Unnamed: 0\": 173, \"datetime\": \"2017-08-27T00:48:45\", \"tweet_count\": 0.3199306938157741, \"team\": \"\\u2618\\ufe0f\\ud83c\\udf40\\ud83c\\uddee\\ud83c\\uddea\"}, {\"Unnamed: 0\": 174, \"datetime\": \"2017-08-27T00:49:00\", \"tweet_count\": 0.3215290881094461, \"team\": \"\\u2618\\ufe0f\\ud83c\\udf40\\ud83c\\uddee\\ud83c\\uddea\"}, {\"Unnamed: 0\": 175, \"datetime\": \"2017-08-27T00:49:15\", \"tweet_count\": 0.29083117922971474, \"team\": \"\\u2618\\ufe0f\\ud83c\\udf40\\ud83c\\uddee\\ud83c\\uddea\"}, {\"Unnamed: 0\": 176, \"datetime\": \"2017-08-27T00:49:30\", \"tweet_count\": 0.2726734188503107, \"team\": \"\\u2618\\ufe0f\\ud83c\\udf40\\ud83c\\uddee\\ud83c\\uddea\"}, {\"Unnamed: 0\": 177, \"datetime\": \"2017-08-27T00:49:45\", \"tweet_count\": 0.28815487016540825, \"team\": \"\\u2618\\ufe0f\\ud83c\\udf40\\ud83c\\uddee\\ud83c\\uddea\"}, {\"Unnamed: 0\": 178, \"datetime\": \"2017-08-27T00:50:00\", \"tweet_count\": 0.2494863049961485, \"team\": \"\\u2618\\ufe0f\\ud83c\\udf40\\ud83c\\uddee\\ud83c\\uddea\"}, {\"Unnamed: 0\": 179, \"datetime\": \"2017-08-27T00:50:15\", \"tweet_count\": 0.2833573594902525, \"team\": \"\\u2618\\ufe0f\\ud83c\\udf40\\ud83c\\uddee\\ud83c\\uddea\"}, {\"Unnamed: 0\": 180, \"datetime\": \"2017-08-27T00:50:30\", \"tweet_count\": 0.2985188725858232, \"team\": \"\\u2618\\ufe0f\\ud83c\\udf40\\ud83c\\uddee\\ud83c\\uddea\"}, {\"Unnamed: 0\": 181, \"datetime\": \"2017-08-27T00:50:45\", \"tweet_count\": 0.288727144927435, \"team\": \"\\u2618\\ufe0f\\ud83c\\udf40\\ud83c\\uddee\\ud83c\\uddea\"}, {\"Unnamed: 0\": 182, \"datetime\": \"2017-08-27T00:51:00\", \"tweet_count\": 0.2793815501367624, \"team\": \"\\u2618\\ufe0f\\ud83c\\udf40\\ud83c\\uddee\\ud83c\\uddea\"}, {\"Unnamed: 0\": 183, \"datetime\": \"2017-08-27T00:51:15\", \"tweet_count\": 0.2615558595312164, \"team\": \"\\u2618\\ufe0f\\ud83c\\udf40\\ud83c\\uddee\\ud83c\\uddea\"}, {\"Unnamed: 0\": 184, \"datetime\": \"2017-08-27T00:51:30\", \"tweet_count\": 0.26399165782792244, \"team\": \"\\u2618\\ufe0f\\ud83c\\udf40\\ud83c\\uddee\\ud83c\\uddea\"}, {\"Unnamed: 0\": 185, \"datetime\": \"2017-08-27T00:51:45\", \"tweet_count\": 0.2584199835645648, \"team\": \"\\u2618\\ufe0f\\ud83c\\udf40\\ud83c\\uddee\\ud83c\\uddea\"}, {\"Unnamed: 0\": 186, \"datetime\": \"2017-08-27T00:52:00\", \"tweet_count\": 0.2779197932413933, \"team\": \"\\u2618\\ufe0f\\ud83c\\udf40\\ud83c\\uddee\\ud83c\\uddea\"}, {\"Unnamed: 0\": 187, \"datetime\": \"2017-08-27T00:52:15\", \"tweet_count\": 0.2832855624865648, \"team\": \"\\u2618\\ufe0f\\ud83c\\udf40\\ud83c\\uddee\\ud83c\\uddea\"}, {\"Unnamed: 0\": 188, \"datetime\": \"2017-08-27T00:52:30\", \"tweet_count\": 0.2665753511680261, \"team\": \"\\u2618\\ufe0f\\ud83c\\udf40\\ud83c\\uddee\\ud83c\\uddea\"}, {\"Unnamed: 0\": 189, \"datetime\": \"2017-08-27T00:52:45\", \"tweet_count\": 0.2759947812737913, \"team\": \"\\u2618\\ufe0f\\ud83c\\udf40\\ud83c\\uddee\\ud83c\\uddea\"}, {\"Unnamed: 0\": 190, \"datetime\": \"2017-08-27T00:53:00\", \"tweet_count\": 0.27997273128569145, \"team\": \"\\u2618\\ufe0f\\ud83c\\udf40\\ud83c\\uddee\\ud83c\\uddea\"}, {\"Unnamed: 0\": 191, \"datetime\": \"2017-08-27T00:53:15\", \"tweet_count\": 0.2779793567187012, \"team\": \"\\u2618\\ufe0f\\ud83c\\udf40\\ud83c\\uddee\\ud83c\\uddea\"}, {\"Unnamed: 0\": 192, \"datetime\": \"2017-08-27T00:53:30\", \"tweet_count\": 0.2912224429774125, \"team\": \"\\u2618\\ufe0f\\ud83c\\udf40\\ud83c\\uddee\\ud83c\\uddea\"}, {\"Unnamed: 0\": 193, \"datetime\": \"2017-08-27T00:53:45\", \"tweet_count\": 0.2651501958121151, \"team\": \"\\u2618\\ufe0f\\ud83c\\udf40\\ud83c\\uddee\\ud83c\\uddea\"}, {\"Unnamed: 0\": 194, \"datetime\": \"2017-08-27T00:54:00\", \"tweet_count\": 0.2824499609112405, \"team\": \"\\u2618\\ufe0f\\ud83c\\udf40\\ud83c\\uddee\\ud83c\\uddea\"}, {\"Unnamed: 0\": 195, \"datetime\": \"2017-08-27T00:54:15\", \"tweet_count\": 0.3000733077256368, \"team\": \"\\u2618\\ufe0f\\ud83c\\udf40\\ud83c\\uddee\\ud83c\\uddea\"}, {\"Unnamed: 0\": 196, \"datetime\": \"2017-08-27T00:54:30\", \"tweet_count\": 0.2784864051566178, \"team\": \"\\u2618\\ufe0f\\ud83c\\udf40\\ud83c\\uddee\\ud83c\\uddea\"}, {\"Unnamed: 0\": 197, \"datetime\": \"2017-08-27T00:54:45\", \"tweet_count\": 0.2670998544130674, \"team\": \"\\u2618\\ufe0f\\ud83c\\udf40\\ud83c\\uddee\\ud83c\\uddea\"}, {\"Unnamed: 0\": 198, \"datetime\": \"2017-08-27T00:55:00\", \"tweet_count\": 0.27644192619842795, \"team\": \"\\u2618\\ufe0f\\ud83c\\udf40\\ud83c\\uddee\\ud83c\\uddea\"}, {\"Unnamed: 0\": 199, \"datetime\": \"2017-08-27T00:55:15\", \"tweet_count\": 0.2996779321460481, \"team\": \"\\u2618\\ufe0f\\ud83c\\udf40\\ud83c\\uddee\\ud83c\\uddea\"}, {\"Unnamed: 0\": 200, \"datetime\": \"2017-08-27T00:55:30\", \"tweet_count\": 0.3199826685943972, \"team\": \"\\u2618\\ufe0f\\ud83c\\udf40\\ud83c\\uddee\\ud83c\\uddea\"}, {\"Unnamed: 0\": 201, \"datetime\": \"2017-08-27T00:55:45\", \"tweet_count\": 0.3228321585389609, \"team\": \"\\u2618\\ufe0f\\ud83c\\udf40\\ud83c\\uddee\\ud83c\\uddea\"}, {\"Unnamed: 0\": 202, \"datetime\": \"2017-08-27T00:56:00\", \"tweet_count\": 0.30603528566877136, \"team\": \"\\u2618\\ufe0f\\ud83c\\udf40\\ud83c\\uddee\\ud83c\\uddea\"}, {\"Unnamed: 0\": 203, \"datetime\": \"2017-08-27T00:56:15\", \"tweet_count\": 0.3150703031862318, \"team\": \"\\u2618\\ufe0f\\ud83c\\udf40\\ud83c\\uddee\\ud83c\\uddea\"}, {\"Unnamed: 0\": 204, \"datetime\": \"2017-08-27T00:56:30\", \"tweet_count\": 0.35681970245637273, \"team\": \"\\u2618\\ufe0f\\ud83c\\udf40\\ud83c\\uddee\\ud83c\\uddea\"}, {\"Unnamed: 0\": 205, \"datetime\": \"2017-08-27T00:56:45\", \"tweet_count\": 0.3746599684152505, \"team\": \"\\u2618\\ufe0f\\ud83c\\udf40\\ud83c\\uddee\\ud83c\\uddea\"}, {\"Unnamed: 0\": 206, \"datetime\": \"2017-08-27T00:57:00\", \"tweet_count\": 0.4050967754393359, \"team\": \"\\u2618\\ufe0f\\ud83c\\udf40\\ud83c\\uddee\\ud83c\\uddea\"}, {\"Unnamed: 0\": 207, \"datetime\": \"2017-08-27T00:57:15\", \"tweet_count\": 0.42170266445707183, \"team\": \"\\u2618\\ufe0f\\ud83c\\udf40\\ud83c\\uddee\\ud83c\\uddea\"}, {\"Unnamed: 0\": 208, \"datetime\": \"2017-08-27T00:57:30\", \"tweet_count\": 0.4007972854382852, \"team\": \"\\u2618\\ufe0f\\ud83c\\udf40\\ud83c\\uddee\\ud83c\\uddea\"}, {\"Unnamed: 0\": 209, \"datetime\": \"2017-08-27T00:57:45\", \"tweet_count\": 0.4209037599729025, \"team\": \"\\u2618\\ufe0f\\ud83c\\udf40\\ud83c\\uddee\\ud83c\\uddea\"}, {\"Unnamed: 0\": 210, \"datetime\": \"2017-08-27T00:58:00\", \"tweet_count\": 0.45469904336521094, \"team\": \"\\u2618\\ufe0f\\ud83c\\udf40\\ud83c\\uddee\\ud83c\\uddea\"}, {\"Unnamed: 0\": 211, \"datetime\": \"2017-08-27T00:58:15\", \"tweet_count\": 0.4344973398939139, \"team\": \"\\u2618\\ufe0f\\ud83c\\udf40\\ud83c\\uddee\\ud83c\\uddea\"}, {\"Unnamed: 0\": 212, \"datetime\": \"2017-08-27T00:58:30\", \"tweet_count\": 0.4328387324655742, \"team\": \"\\u2618\\ufe0f\\ud83c\\udf40\\ud83c\\uddee\\ud83c\\uddea\"}, {\"Unnamed: 0\": 213, \"datetime\": \"2017-08-27T00:58:45\", \"tweet_count\": 0.4415752930382828, \"team\": \"\\u2618\\ufe0f\\ud83c\\udf40\\ud83c\\uddee\\ud83c\\uddea\"}, {\"Unnamed: 0\": 214, \"datetime\": \"2017-08-27T00:59:00\", \"tweet_count\": 0.5363237244099659, \"team\": \"\\u2618\\ufe0f\\ud83c\\udf40\\ud83c\\uddee\\ud83c\\uddea\"}, {\"Unnamed: 0\": 215, \"datetime\": \"2017-08-27T00:59:15\", \"tweet_count\": 0.5346624267883018, \"team\": \"\\u2618\\ufe0f\\ud83c\\udf40\\ud83c\\uddee\\ud83c\\uddea\"}, {\"Unnamed: 0\": 216, \"datetime\": \"2017-08-27T00:59:30\", \"tweet_count\": 0.4998162672232743, \"team\": \"\\u2618\\ufe0f\\ud83c\\udf40\\ud83c\\uddee\\ud83c\\uddea\"}, {\"Unnamed: 0\": 217, \"datetime\": \"2017-08-27T00:59:45\", \"tweet_count\": 0.5067389086677714, \"team\": \"\\u2618\\ufe0f\\ud83c\\udf40\\ud83c\\uddee\\ud83c\\uddea\"}, {\"Unnamed: 0\": 218, \"datetime\": \"2017-08-27T01:00:00\", \"tweet_count\": 0.5820004416108062, \"team\": \"\\u2618\\ufe0f\\ud83c\\udf40\\ud83c\\uddee\\ud83c\\uddea\"}, {\"Unnamed: 0\": 219, \"datetime\": \"2017-08-27T01:00:15\", \"tweet_count\": 0.599504664788431, \"team\": \"\\u2618\\ufe0f\\ud83c\\udf40\\ud83c\\uddee\\ud83c\\uddea\"}, {\"Unnamed: 0\": 220, \"datetime\": \"2017-08-27T01:00:30\", \"tweet_count\": 0.5694249693134432, \"team\": \"\\u2618\\ufe0f\\ud83c\\udf40\\ud83c\\uddee\\ud83c\\uddea\"}, {\"Unnamed: 0\": 221, \"datetime\": \"2017-08-27T01:00:45\", \"tweet_count\": 0.5472998181477238, \"team\": \"\\u2618\\ufe0f\\ud83c\\udf40\\ud83c\\uddee\\ud83c\\uddea\"}, {\"Unnamed: 0\": 222, \"datetime\": \"2017-08-27T01:01:00\", \"tweet_count\": 0.5007543107771381, \"team\": \"\\u2618\\ufe0f\\ud83c\\udf40\\ud83c\\uddee\\ud83c\\uddea\"}, {\"Unnamed: 0\": 223, \"datetime\": \"2017-08-27T01:01:15\", \"tweet_count\": 0.5088952223304145, \"team\": \"\\u2618\\ufe0f\\ud83c\\udf40\\ud83c\\uddee\\ud83c\\uddea\"}, {\"Unnamed: 0\": 224, \"datetime\": \"2017-08-27T01:01:30\", \"tweet_count\": 0.5107664160482087, \"team\": \"\\u2618\\ufe0f\\ud83c\\udf40\\ud83c\\uddee\\ud83c\\uddea\"}, {\"Unnamed: 0\": 225, \"datetime\": \"2017-08-27T01:01:45\", \"tweet_count\": 0.5134375877581077, \"team\": \"\\u2618\\ufe0f\\ud83c\\udf40\\ud83c\\uddee\\ud83c\\uddea\"}, {\"Unnamed: 0\": 226, \"datetime\": \"2017-08-27T01:02:00\", \"tweet_count\": 0.4903721303866668, \"team\": \"\\u2618\\ufe0f\\ud83c\\udf40\\ud83c\\uddee\\ud83c\\uddea\"}, {\"Unnamed: 0\": 227, \"datetime\": \"2017-08-27T01:02:15\", \"tweet_count\": 0.490398592523507, \"team\": \"\\u2618\\ufe0f\\ud83c\\udf40\\ud83c\\uddee\\ud83c\\uddea\"}, {\"Unnamed: 0\": 228, \"datetime\": \"2017-08-27T01:02:30\", \"tweet_count\": 0.4748209620414711, \"team\": \"\\u2618\\ufe0f\\ud83c\\udf40\\ud83c\\uddee\\ud83c\\uddea\"}, {\"Unnamed: 0\": 229, \"datetime\": \"2017-08-27T01:02:45\", \"tweet_count\": 0.4585449096162125, \"team\": \"\\u2618\\ufe0f\\ud83c\\udf40\\ud83c\\uddee\\ud83c\\uddea\"}, {\"Unnamed: 0\": 230, \"datetime\": \"2017-08-27T01:03:00\", \"tweet_count\": 0.3867004545892088, \"team\": \"\\u2618\\ufe0f\\ud83c\\udf40\\ud83c\\uddee\\ud83c\\uddea\"}, {\"Unnamed: 0\": 231, \"datetime\": \"2017-08-27T01:03:15\", \"tweet_count\": 0.4231635388455393, \"team\": \"\\u2618\\ufe0f\\ud83c\\udf40\\ud83c\\uddee\\ud83c\\uddea\"}, {\"Unnamed: 0\": 232, \"datetime\": \"2017-08-27T01:03:30\", \"tweet_count\": 0.4387561021181138, \"team\": \"\\u2618\\ufe0f\\ud83c\\udf40\\ud83c\\uddee\\ud83c\\uddea\"}, {\"Unnamed: 0\": 233, \"datetime\": \"2017-08-27T01:03:45\", \"tweet_count\": 0.42954738813865134, \"team\": \"\\u2618\\ufe0f\\ud83c\\udf40\\ud83c\\uddee\\ud83c\\uddea\"}, {\"Unnamed: 0\": 234, \"datetime\": \"2017-08-27T01:04:00\", \"tweet_count\": 0.3731603598474522, \"team\": \"\\u2618\\ufe0f\\ud83c\\udf40\\ud83c\\uddee\\ud83c\\uddea\"}, {\"Unnamed: 0\": 235, \"datetime\": \"2017-08-27T01:04:15\", \"tweet_count\": 0.3743137141210001, \"team\": \"\\u2618\\ufe0f\\ud83c\\udf40\\ud83c\\uddee\\ud83c\\uddea\"}, {\"Unnamed: 0\": 236, \"datetime\": \"2017-08-27T01:04:30\", \"tweet_count\": 0.42363805769528334, \"team\": \"\\u2618\\ufe0f\\ud83c\\udf40\\ud83c\\uddee\\ud83c\\uddea\"}, {\"Unnamed: 0\": 237, \"datetime\": \"2017-08-27T01:04:45\", \"tweet_count\": 0.5151424100212689, \"team\": \"\\u2618\\ufe0f\\ud83c\\udf40\\ud83c\\uddee\\ud83c\\uddea\"}, {\"Unnamed: 0\": 238, \"datetime\": \"2017-08-27T01:05:00\", \"tweet_count\": 0.5625927150970196, \"team\": \"\\u2618\\ufe0f\\ud83c\\udf40\\ud83c\\uddee\\ud83c\\uddea\"}, {\"Unnamed: 0\": 239, \"datetime\": \"2017-08-27T01:05:15\", \"tweet_count\": 0.8575506403905375, \"team\": \"\\u2618\\ufe0f\\ud83c\\udf40\\ud83c\\uddee\\ud83c\\uddea\"}, {\"Unnamed: 0\": 240, \"datetime\": \"2017-08-27T01:05:30\", \"tweet_count\": 1.4312457875211426, \"team\": \"\\u2618\\ufe0f\\ud83c\\udf40\\ud83c\\uddee\\ud83c\\uddea\"}, {\"Unnamed: 0\": 241, \"datetime\": \"2017-08-27T01:05:45\", \"tweet_count\": 1.5268816289264742, \"team\": \"\\u2618\\ufe0f\\ud83c\\udf40\\ud83c\\uddee\\ud83c\\uddea\"}, {\"Unnamed: 0\": 242, \"datetime\": \"2017-08-27T01:06:00\", \"tweet_count\": 1.5080096089846269, \"team\": \"\\u2618\\ufe0f\\ud83c\\udf40\\ud83c\\uddee\\ud83c\\uddea\"}, {\"Unnamed: 0\": 243, \"datetime\": \"2017-08-27T01:06:15\", \"tweet_count\": 1.4807854579541209, \"team\": \"\\u2618\\ufe0f\\ud83c\\udf40\\ud83c\\uddee\\ud83c\\uddea\"}, {\"Unnamed: 0\": 244, \"datetime\": \"2017-08-27T01:06:30\", \"tweet_count\": 1.4957950842130816, \"team\": \"\\u2618\\ufe0f\\ud83c\\udf40\\ud83c\\uddee\\ud83c\\uddea\"}, {\"Unnamed: 0\": 245, \"datetime\": \"2017-08-27T01:06:45\", \"tweet_count\": 1.5086738159041633, \"team\": \"\\u2618\\ufe0f\\ud83c\\udf40\\ud83c\\uddee\\ud83c\\uddea\"}, {\"Unnamed: 0\": 246, \"datetime\": \"2017-08-27T01:07:00\", \"tweet_count\": 1.4883929912409184, \"team\": \"\\u2618\\ufe0f\\ud83c\\udf40\\ud83c\\uddee\\ud83c\\uddea\"}, {\"Unnamed: 0\": 247, \"datetime\": \"2017-08-27T01:07:15\", \"tweet_count\": 1.4435081115389212, \"team\": \"\\u2618\\ufe0f\\ud83c\\udf40\\ud83c\\uddee\\ud83c\\uddea\"}, {\"Unnamed: 0\": 248, \"datetime\": \"2017-08-27T01:07:30\", \"tweet_count\": 1.4213149174345008, \"team\": \"\\u2618\\ufe0f\\ud83c\\udf40\\ud83c\\uddee\\ud83c\\uddea\"}, {\"Unnamed: 0\": 249, \"datetime\": \"2017-08-27T01:07:45\", \"tweet_count\": 1.4344637950363999, \"team\": \"\\u2618\\ufe0f\\ud83c\\udf40\\ud83c\\uddee\\ud83c\\uddea\"}, {\"Unnamed: 0\": 250, \"datetime\": \"2017-08-27T01:08:00\", \"tweet_count\": 1.417681307327307, \"team\": \"\\u2618\\ufe0f\\ud83c\\udf40\\ud83c\\uddee\\ud83c\\uddea\"}, {\"Unnamed: 0\": 251, \"datetime\": \"2017-08-27T01:08:15\", \"tweet_count\": 1.4105537702390434, \"team\": \"\\u2618\\ufe0f\\ud83c\\udf40\\ud83c\\uddee\\ud83c\\uddea\"}, {\"Unnamed: 0\": 252, \"datetime\": \"2017-08-27T01:08:30\", \"tweet_count\": 1.3610915976964215, \"team\": \"\\u2618\\ufe0f\\ud83c\\udf40\\ud83c\\uddee\\ud83c\\uddea\"}, {\"Unnamed: 0\": 253, \"datetime\": \"2017-08-27T01:08:45\", \"tweet_count\": 1.265837042801137, \"team\": \"\\u2618\\ufe0f\\ud83c\\udf40\\ud83c\\uddee\\ud83c\\uddea\"}, {\"Unnamed: 0\": 254, \"datetime\": \"2017-08-27T01:09:00\", \"tweet_count\": 1.2889034600623397, \"team\": \"\\u2618\\ufe0f\\ud83c\\udf40\\ud83c\\uddee\\ud83c\\uddea\"}, {\"Unnamed: 0\": 255, \"datetime\": \"2017-08-27T01:09:15\", \"tweet_count\": 0.8878620667927608, \"team\": \"\\u2618\\ufe0f\\ud83c\\udf40\\ud83c\\uddee\\ud83c\\uddea\"}, {\"Unnamed: 0\": 256, \"datetime\": \"2017-08-27T01:09:30\", \"tweet_count\": 0.3128587770589753, \"team\": \"\\u2618\\ufe0f\\ud83c\\udf40\\ud83c\\uddee\\ud83c\\uddea\"}, {\"Unnamed: 0\": 257, \"datetime\": \"2017-08-27T01:09:45\", \"tweet_count\": 0.21148006481669088, \"team\": \"\\u2618\\ufe0f\\ud83c\\udf40\\ud83c\\uddee\\ud83c\\uddea\"}, {\"Unnamed: 0\": 258, \"datetime\": \"2017-08-27T01:10:00\", \"tweet_count\": 0.2274573537300764, \"team\": \"\\u2618\\ufe0f\\ud83c\\udf40\\ud83c\\uddee\\ud83c\\uddea\"}, {\"Unnamed: 0\": 259, \"datetime\": \"2017-08-27T01:10:15\", \"tweet_count\": 0.23131329962327896, \"team\": \"\\u2618\\ufe0f\\ud83c\\udf40\\ud83c\\uddee\\ud83c\\uddea\"}, {\"Unnamed: 0\": 260, \"datetime\": \"2017-08-27T01:10:30\", \"tweet_count\": 0.2478155613794052, \"team\": \"\\u2618\\ufe0f\\ud83c\\udf40\\ud83c\\uddee\\ud83c\\uddea\"}, {\"Unnamed: 0\": 261, \"datetime\": \"2017-08-27T01:10:45\", \"tweet_count\": 0.3027434344155643, \"team\": \"\\u2618\\ufe0f\\ud83c\\udf40\\ud83c\\uddee\\ud83c\\uddea\"}, {\"Unnamed: 0\": 262, \"datetime\": \"2017-08-27T01:11:00\", \"tweet_count\": 0.33518866826283555, \"team\": \"\\u2618\\ufe0f\\ud83c\\udf40\\ud83c\\uddee\\ud83c\\uddea\"}, {\"Unnamed: 0\": 263, \"datetime\": \"2017-08-27T01:11:15\", \"tweet_count\": 0.3445549881104789, \"team\": \"\\u2618\\ufe0f\\ud83c\\udf40\\ud83c\\uddee\\ud83c\\uddea\"}, {\"Unnamed: 0\": 264, \"datetime\": \"2017-08-27T01:11:30\", \"tweet_count\": 0.3553399804169751, \"team\": \"\\u2618\\ufe0f\\ud83c\\udf40\\ud83c\\uddee\\ud83c\\uddea\"}, {\"Unnamed: 0\": 265, \"datetime\": \"2017-08-27T01:11:45\", \"tweet_count\": 0.3612565304955929, \"team\": \"\\u2618\\ufe0f\\ud83c\\udf40\\ud83c\\uddee\\ud83c\\uddea\"}, {\"Unnamed: 0\": 266, \"datetime\": \"2017-08-27T01:12:00\", \"tweet_count\": 0.3678465615221389, \"team\": \"\\u2618\\ufe0f\\ud83c\\udf40\\ud83c\\uddee\\ud83c\\uddea\"}, {\"Unnamed: 0\": 267, \"datetime\": \"2017-08-27T01:12:15\", \"tweet_count\": null, \"team\": \"\\u2618\\ufe0f\\ud83c\\udf40\\ud83c\\uddee\\ud83c\\uddea\"}, {\"Unnamed: 0\": 268, \"datetime\": \"2017-08-27T01:12:30\", \"tweet_count\": 0.3878944076272375, \"team\": \"\\u2618\\ufe0f\\ud83c\\udf40\\ud83c\\uddee\\ud83c\\uddea\"}, {\"Unnamed: 0\": 269, \"datetime\": \"2017-08-27T01:12:45\", \"tweet_count\": 0.4006394367040946, \"team\": \"\\u2618\\ufe0f\\ud83c\\udf40\\ud83c\\uddee\\ud83c\\uddea\"}, {\"Unnamed: 0\": 270, \"datetime\": \"2017-08-27T01:13:00\", \"tweet_count\": 0.3719502670986789, \"team\": \"\\u2618\\ufe0f\\ud83c\\udf40\\ud83c\\uddee\\ud83c\\uddea\"}, {\"Unnamed: 0\": 271, \"datetime\": \"2017-08-27T01:13:15\", \"tweet_count\": 0.3722519775241239, \"team\": \"\\u2618\\ufe0f\\ud83c\\udf40\\ud83c\\uddee\\ud83c\\uddea\"}, {\"Unnamed: 0\": 272, \"datetime\": \"2017-08-27T01:13:30\", \"tweet_count\": 0.4288409362407532, \"team\": \"\\u2618\\ufe0f\\ud83c\\udf40\\ud83c\\uddee\\ud83c\\uddea\"}, {\"Unnamed: 0\": 273, \"datetime\": \"2017-08-27T01:13:45\", \"tweet_count\": 0.441464815735848, \"team\": \"\\u2618\\ufe0f\\ud83c\\udf40\\ud83c\\uddee\\ud83c\\uddea\"}, {\"Unnamed: 0\": 274, \"datetime\": \"2017-08-27T01:14:00\", \"tweet_count\": 0.4520170140203961, \"team\": \"\\u2618\\ufe0f\\ud83c\\udf40\\ud83c\\uddee\\ud83c\\uddea\"}, {\"Unnamed: 0\": 275, \"datetime\": \"2017-08-27T01:14:15\", \"tweet_count\": 0.4957486767985705, \"team\": \"\\u2618\\ufe0f\\ud83c\\udf40\\ud83c\\uddee\\ud83c\\uddea\"}, {\"Unnamed: 0\": 276, \"datetime\": \"2017-08-27T01:14:30\", \"tweet_count\": 0.5881885393962452, \"team\": \"\\u2618\\ufe0f\\ud83c\\udf40\\ud83c\\uddee\\ud83c\\uddea\"}, {\"Unnamed: 0\": 277, \"datetime\": \"2017-08-27T01:14:45\", \"tweet_count\": 0.7153840974465181, \"team\": \"\\u2618\\ufe0f\\ud83c\\udf40\\ud83c\\uddee\\ud83c\\uddea\"}]}}, {\"mode\": \"vega-lite\"});\n",
       "</script>"
      ],
      "text/plain": [
       "alt.LayerChart(...)"
      ]
     },
     "execution_count": 13,
     "metadata": {},
     "output_type": "execute_result"
    }
   ],
   "source": [
    "#TODO: replicate vis2\n",
    "#Zooming and Panning\n",
    "nearest = alt.selection(type='single', nearest=True, on='mouseover',\n",
    "                        fields=['datetime'], empty='none')\n",
    "\n",
    "# The basic line\n",
    "line = alt.Chart(df2).mark_line(interpolate='basis').encode(\n",
    "    x='datetime',\n",
    "    y='tweet_count:Q',\n",
    "    color='team:N'\n",
    ")\n",
    "\n",
    "# Transparent selectors across the chart. This is what tells us\n",
    "# the x-value of the cursor\n",
    "selectors = alt.Chart(df2).mark_point().encode(\n",
    "    x='datetime',\n",
    "    opacity=alt.value(0),\n",
    ").add_selection(\n",
    "    nearest\n",
    ")\n",
    "# # # Draw points on the line, and highlight based on selection\n",
    "# points = line.mark_point().encode(\n",
    "#     opacity=alt.condition(nearest, alt.value(1), alt.value(0))\n",
    "# )\n",
    "\n",
    "# # Draw text labels near the points, and highlight based on selection\n",
    "# text = line.mark_text(align='left', dx=5, dy=-5).encode(\n",
    "#     text=alt.condition(nearest, 'tweet_count:Q', alt.value(' '))\n",
    "# )\n",
    "\n",
    "# # Draw a rule at the location of the selection\n",
    "# rules = alt.Chart(df2).mark_rule(color='gray').encode(\n",
    "#     x='datetime:T',\n",
    "# ).transform_filter(\n",
    "#     nearest\n",
    "# )\n",
    "\n",
    "# Put the five layers into a chart and bind the data\n",
    "alt.layer(\n",
    "    line, selectors, points, rules, text\n",
    ").properties(\n",
    "    width=600, height=300\n",
    ")\n",
    "#vertical line\n",
    "\n",
    "#interaction dots\n",
    "\n",
    "#Static component line chart\n",
    "\n",
    "#Put all together"
   ]
  },
  {
   "cell_type": "markdown",
   "metadata": {
    "colab_type": "text",
    "id": "2oaNahO9Xdsg"
   },
   "source": [
    "## Visualization 3: Much hype, more boredom"
   ]
  },
  {
   "cell_type": "markdown",
   "metadata": {
    "colab_type": "text",
    "id": "GnisDhCjXqLB"
   },
   "source": [
    "We will replicate the following visualization  \n",
    "![vis3_static](https://raw.githubusercontent.com/eytanadar/si649public/master/lab6/hw/vis3/static.png?raw=true)\n",
    "\n",
    "**Description of the visualization (static):**\n",
    "*   Use *df3*\n",
    "*   The visualization has 1 component: **line chart**. It displays the relationship between *datetime* and *tweet_count*. Each line represents one emoji. "
   ]
  },
  {
   "cell_type": "markdown",
   "metadata": {
    "colab_type": "text",
    "id": "Yc9O5s5PYWqT"
   },
   "source": [
    "**Description of the visualization (interactivity):**\n",
    "1. Build radio selections for emojis. Theoretically, only one line will be shown at any given time. See the \"bug\" section for more detail.\n",
    "![alt text](https://raw.githubusercontent.com/eytanadar/si649public/master/lab6/hw/vis3/interactive_1.gif?raw=true)\n",
    "2. Brushing over line chart will display individual data points as circles. This will require another chart component, let's call this component **circles**.  \n",
    "![alt text](https://raw.githubusercontent.com/eytanadar/si649public/master/lab6/hw/vis3/interactive_2.gif?raw=true)\n",
    "\n"
   ]
  },
  {
   "cell_type": "markdown",
   "metadata": {
    "colab_type": "text",
    "id": "MtI266eHcCvu"
   },
   "source": [
    "**Sample style settings (optional):**\n",
    "Here's a list of default style settings we used to generate the graph.\n",
    "\n",
    "* **circles**: color=\"black\",opacity=0.7 \n",
    "* For both x and y axis, we have the following tickCount specified\n",
    "> axis=alt.Axis(tickCount=5,...) \n",
    "\n"
   ]
  },
  {
   "cell_type": "markdown",
   "metadata": {
    "colab_type": "text",
    "id": "IKQ1m4QSfAtC"
   },
   "source": [
    "**Bugs**\n",
    "\n",
    "If your interaction look similar to this, don't worry about it. It's likely a altair/colab issue. \n",
    "\n",
    "1. single click reset selection even when *clear=False*. This is likely a colab issue, because the chart will behave correctly in vega-editor. You can ignore this bug or view it in vegalite online editor. \n",
    "\n",
    "![alt text](https://raw.githubusercontent.com/eytanadar/si649public/master/lab6/hw/vis3/interactive_2_bug.gif?raw=true)"
   ]
  },
  {
   "cell_type": "markdown",
   "metadata": {
    "colab_type": "text",
    "id": "GzuQJSw1lX4y"
   },
   "source": [
    "**Hint**\n",
    "\n",
    "* You will have 2 selections. One for the emoji selection and one for the time selection. Ensure that these two interactions work independently before merging them together. \n",
    "\n",
    "* You can use multiple transform_filter, or use logical operand to chain multiple selections. "
   ]
  },
  {
   "cell_type": "code",
   "execution_count": 8,
   "metadata": {
    "colab": {
     "base_uri": "https://localhost:8080/",
     "height": 373
    },
    "colab_type": "code",
    "executionInfo": {
     "elapsed": 357,
     "status": "ok",
     "timestamp": 1581365279780,
     "user": {
      "displayName": "Matthew Kay",
      "photoUrl": "https://lh3.googleusercontent.com/a-/AAuE7mAdky9qVH46I_7lBPGqO4FSfJRCbiW_k8cFLOUN=s64",
      "userId": "07352650379952094636"
     },
     "user_tz": 300
    },
    "id": "Vc1HxSm3x9Fr",
    "outputId": "0f640430-be8b-4c19-889a-f3db43810002"
   },
   "outputs": [],
   "source": [
    "##TODO: replicate vis3\n"
   ]
  },
  {
   "cell_type": "markdown",
   "metadata": {
    "colab_type": "text",
    "id": "GzuQJSw1lX4y"
   },
   "source": [
    "**Comparing Altair Widget with Streamlit Widget**\n",
    "\n",
    "* We want you to compare the altair radio selection with the streamlit radio select widget. \n",
    "* You should have two versions of vis 3 on your streamlit app to compare these. The first one will be using the altair radio selection that you have just created. The second one should use a streamlit widget to create radio buttons to switch between the two graphs.\n",
    "* Put both of these visualizations on the Vis 3 page. See the gif below for an example of what both of these graphs should look like.\n",
    "\n",
    "Your vis 3 export will look like this:\n",
    "![alt text](https://raw.githubusercontent.com/eytanadar/si649public/master/lab6/hw/vis3/full_export.gif)"
   ]
  },
  {
   "cell_type": "markdown",
   "metadata": {
    "colab_type": "text",
    "id": "MPlD75YwwylA"
   },
   "source": [
    "## BONUS: Visualization 4: Tears were shed-of joy and sorrow"
   ]
  },
  {
   "cell_type": "markdown",
   "metadata": {
    "colab_type": "text",
    "id": "9lf9mwqUgGQ7"
   },
   "source": [
    "OPTIONAL:\n",
    "We will replicate the following visualization  \n",
    "![vis4_static](https://raw.githubusercontent.com/eytanadar/si649public/master/lab6/hw/vis4/static.png?raw=true)\n",
    "\n",
    "**Description of the visualization (static):**\n",
    "*   Use *df4*\n",
    "*   The visualization has 2 components: **line chart** that displays relationship between *datetime* and *tweet_count*, and **legend** that displays the two emojis in the line chart.  \n",
    "*   **legend** is a chart. It is not the automatically generated legend. (i.e., In the line chart's color encoding, set *legend=None*)\n",
    "*   Two components are displayed side by side "
   ]
  },
  {
   "cell_type": "markdown",
   "metadata": {
    "colab_type": "text",
    "id": "CofxA1QjhS03"
   },
   "source": [
    "**Description of the visualization (interactivity):**\n",
    "1. In the legend component, if one of the emoji is clicked, the selected emoji will have full opacity while the other emoji becomes transparent. \n",
    "![alt text](https://raw.githubusercontent.com/eytanadar/si649public/master/lab6/hw/vis4/interactive_1.gif?raw=true)\n",
    "2.  Clicking emojis in the **legend** component will display the corresponding line and hide the other line . \n",
    "![alt text](https://raw.githubusercontent.com/eytanadar/si649public/master/lab6/hw/vis4/interactive_2.gif?raw=true)"
   ]
  },
  {
   "cell_type": "markdown",
   "metadata": {
    "colab_type": "text",
    "id": "BdDDYy65inQm"
   },
   "source": [
    "**Sample style settings (optional):**\n",
    "Here's a list of default style settings we used to generate the graph.\n",
    "* For the line chart, we used tickCount=5 in x and y axis.  \n",
    "* For the legend, we used size=25,strokeWidth=0"
   ]
  },
  {
   "cell_type": "markdown",
   "metadata": {
    "colab_type": "text",
    "id": "lqS6dNgsoiqf"
   },
   "source": [
    "**Hint**\n",
    "\n",
    "* You can have one selection and multiple conditions that use the same selection. \n",
    "* To hide a line, you have 2 options: changing opacity and adding transform_filter. In this chart, we want you to practice the 1st option (changing opacity). Using this method, your x- and y-axis will have a consistent scale.  "
   ]
  },
  {
   "cell_type": "code",
   "execution_count": 9,
   "metadata": {
    "colab": {
     "base_uri": "https://localhost:8080/",
     "height": 372
    },
    "colab_type": "code",
    "executionInfo": {
     "elapsed": 2177,
     "status": "ok",
     "timestamp": 1581093009587,
     "user": {
      "displayName": "Shiqing (Licia) He",
      "photoUrl": "https://lh3.googleusercontent.com/a-/AAuE7mCJxAelrpcgBANpLNYl7jHbfJVhnk621_KLm7fInA=s64",
      "userId": "10870840754198798102"
     },
     "user_tz": 300
    },
    "id": "OL3I687r33P-",
    "outputId": "26c6b926-125c-46a8-d1fe-e6e3a1681953"
   },
   "outputs": [],
   "source": [
    "#TODO: BONUS: Replicate vis 4\n"
   ]
  },
  {
   "cell_type": "markdown",
   "metadata": {
    "colab_type": "text",
    "id": "GzuQJSw1lX4y"
   },
   "source": [
    "**Comparing Altair Widget with Streamlit Widget**\n",
    "\n",
    "* We want you to compare the altair radio selection with the streamlit radio select widget for vis 4 as well. \n",
    "* You should have two versions of vis 4 on your streamlit app to compare these. The first one will be using the altair radio selection that you have just created. The second one should use a streamlit widget to create radio buttons to switch between the two graphs.\n",
    "* Put both of these visualizations on the Vis 3 page. See the gif below for an example of what both of these graphs should look like.\n",
    "\n",
    "Your vis 4 export will look like this:\n",
    "![alt text](https://raw.githubusercontent.com/eytanadar/si649public/master/lab6/hw/vis4/full_export.gif)"
   ]
  },
  {
   "cell_type": "markdown",
   "metadata": {
    "colab_type": "text",
    "id": "H5tiPGTwjJGJ"
   },
   "source": [
    "*This is the end of the lab*. \n",
    "\n",
    "\n",
    "Please run all cells (Runtime->Restart and run all), and \n",
    "1.  save to PDF (File->Print->Save PDF -> landscape, shrink to 80%)\n",
    "2.  save to ipynb (File -> Download .ipynb)\n",
    "\n",
    "Rename both files with your uniqname: e.g. uniqname.pdf/ uniqname.ipynb\n",
    "\n",
    "Upload both files to canvas. \n",
    "\n",
    "\n"
   ]
  }
 ],
 "metadata": {
  "celltoolbar": "Create Assignment",
  "colab": {
   "collapsed_sections": [],
   "name": "Copy of si649f19 lab4_hw_answer_ver.ipynb",
   "provenance": [
    {
     "file_id": "1HKNt5NHKXmoA6IQJfWCJkiHQ2M1jgfBZ",
     "timestamp": 1569290438615
    },
    {
     "file_id": "1lauwZmiryXTXFo_nVSRj9S3fSvNRNRPj",
     "timestamp": 1569270936763
    }
   ]
  },
  "kernelspec": {
   "display_name": "Python 3",
   "language": "python",
   "name": "python3"
  },
  "language_info": {
   "codemirror_mode": {
    "name": "ipython",
    "version": 3
   },
   "file_extension": ".py",
   "mimetype": "text/x-python",
   "name": "python",
   "nbconvert_exporter": "python",
   "pygments_lexer": "ipython3",
   "version": "3.8.5"
  },
  "toc": {
   "colors": {
    "hover_highlight": "#DAA520",
    "running_highlight": "#FF0000",
    "selected_highlight": "#FFD700"
   },
   "moveMenuLeft": true,
   "nav_menu": {
    "height": "300px",
    "width": "252px"
   },
   "navigate_menu": true,
   "number_sections": false,
   "sideBar": false,
   "threshold": 4,
   "toc_cell": false,
   "toc_position": {
    "height": "259px",
    "left": "1px",
    "right": "20px",
    "top": "110px",
    "width": "212px"
   },
   "toc_section_display": "none",
   "toc_window_display": true,
   "widenNotebook": false
  }
 },
 "nbformat": 4,
 "nbformat_minor": 1
}
